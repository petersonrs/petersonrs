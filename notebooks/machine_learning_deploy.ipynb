{
 "cells": [
  {
   "cell_type": "markdown",
   "id": "60343520",
   "metadata": {},
   "source": [
    "## Stack - Projeto Human Resources Analytics"
   ]
  },
  {
   "cell_type": "markdown",
   "id": "1b1bad41",
   "metadata": {},
   "source": [
    "### Machine Learning."
   ]
  },
  {
   "cell_type": "code",
   "execution_count": 1,
   "id": "8d9b163d",
   "metadata": {},
   "outputs": [],
   "source": [
    "import pandas as pd\n",
    "import datetime\n",
    "import glob\n",
    "from minio import Minio\n",
    "import numpy as np\n",
    "import matplotlib.pyplot as plt"
   ]
  },
  {
   "cell_type": "code",
   "execution_count": 2,
   "id": "f5274952",
   "metadata": {},
   "outputs": [],
   "source": [
    "client = Minio(\n",
    "        \"localhost:9000\",\n",
    "        access_key=\"minioadmin\",\n",
    "        secret_key=\"minioadmin\",\n",
    "        secure=False\n",
    "    )"
   ]
  },
  {
   "cell_type": "markdown",
   "id": "838ed69f",
   "metadata": {},
   "source": [
    "### Baixando o Dataset do Data Lake."
   ]
  },
  {
   "cell_type": "code",
   "execution_count": 3,
   "id": "bfa60edd",
   "metadata": {},
   "outputs": [],
   "source": [
    "client.fget_object(\n",
    "            \"processing\",\n",
    "            \"employees_dataset.parquet\",\n",
    "            \"temp_.parquet\",\n",
    ")\n",
    "df = pd.read_parquet(\"temp_.parquet\")"
   ]
  },
  {
   "cell_type": "code",
   "execution_count": 72,
   "id": "22142337",
   "metadata": {
    "scrolled": true
   },
   "outputs": [
    {
     "data": {
      "text/html": [
       "<div>\n",
       "<style scoped>\n",
       "    .dataframe tbody tr th:only-of-type {\n",
       "        vertical-align: middle;\n",
       "    }\n",
       "\n",
       "    .dataframe tbody tr th {\n",
       "        vertical-align: top;\n",
       "    }\n",
       "\n",
       "    .dataframe thead th {\n",
       "        text-align: right;\n",
       "    }\n",
       "</style>\n",
       "<table border=\"1\" class=\"dataframe\">\n",
       "  <thead>\n",
       "    <tr style=\"text-align: right;\">\n",
       "      <th></th>\n",
       "      <th>department</th>\n",
       "      <th>salary</th>\n",
       "      <th>left</th>\n",
       "      <th>mean_work_last_3_months</th>\n",
       "      <th>number_projects</th>\n",
       "      <th>satisfaction_level</th>\n",
       "      <th>last_evaluation</th>\n",
       "      <th>time_in_company</th>\n",
       "      <th>work_accident</th>\n",
       "    </tr>\n",
       "  </thead>\n",
       "  <tbody>\n",
       "    <tr>\n",
       "      <th>0</th>\n",
       "      <td>sales</td>\n",
       "      <td>low</td>\n",
       "      <td>1.0</td>\n",
       "      <td>266.000000</td>\n",
       "      <td>2.0</td>\n",
       "      <td>38.0</td>\n",
       "      <td>53.0</td>\n",
       "      <td>3.0</td>\n",
       "      <td>0.0</td>\n",
       "    </tr>\n",
       "    <tr>\n",
       "      <th>1</th>\n",
       "      <td>sales</td>\n",
       "      <td>medium</td>\n",
       "      <td>1.0</td>\n",
       "      <td>252.000000</td>\n",
       "      <td>5.0</td>\n",
       "      <td>80.0</td>\n",
       "      <td>86.0</td>\n",
       "      <td>6.0</td>\n",
       "      <td>0.0</td>\n",
       "    </tr>\n",
       "    <tr>\n",
       "      <th>2</th>\n",
       "      <td>sales</td>\n",
       "      <td>medium</td>\n",
       "      <td>1.0</td>\n",
       "      <td>289.666667</td>\n",
       "      <td>7.0</td>\n",
       "      <td>11.0</td>\n",
       "      <td>88.0</td>\n",
       "      <td>4.0</td>\n",
       "      <td>0.0</td>\n",
       "    </tr>\n",
       "    <tr>\n",
       "      <th>3</th>\n",
       "      <td>sales</td>\n",
       "      <td>low</td>\n",
       "      <td>1.0</td>\n",
       "      <td>275.666667</td>\n",
       "      <td>5.0</td>\n",
       "      <td>72.0</td>\n",
       "      <td>87.0</td>\n",
       "      <td>5.0</td>\n",
       "      <td>0.0</td>\n",
       "    </tr>\n",
       "    <tr>\n",
       "      <th>4</th>\n",
       "      <td>sales</td>\n",
       "      <td>low</td>\n",
       "      <td>1.0</td>\n",
       "      <td>292.333333</td>\n",
       "      <td>2.0</td>\n",
       "      <td>37.0</td>\n",
       "      <td>52.0</td>\n",
       "      <td>3.0</td>\n",
       "      <td>0.0</td>\n",
       "    </tr>\n",
       "  </tbody>\n",
       "</table>\n",
       "</div>"
      ],
      "text/plain": [
       "  department  salary  left  mean_work_last_3_months  number_projects  \\\n",
       "0      sales     low   1.0               266.000000              2.0   \n",
       "1      sales  medium   1.0               252.000000              5.0   \n",
       "2      sales  medium   1.0               289.666667              7.0   \n",
       "3      sales     low   1.0               275.666667              5.0   \n",
       "4      sales     low   1.0               292.333333              2.0   \n",
       "\n",
       "   satisfaction_level  last_evaluation  time_in_company  work_accident  \n",
       "0                38.0             53.0              3.0            0.0  \n",
       "1                80.0             86.0              6.0            0.0  \n",
       "2                11.0             88.0              4.0            0.0  \n",
       "3                72.0             87.0              5.0            0.0  \n",
       "4                37.0             52.0              3.0            0.0  "
      ]
     },
     "execution_count": 72,
     "metadata": {},
     "output_type": "execute_result"
    }
   ],
   "source": [
    "df.head()"
   ]
  },
  {
   "cell_type": "markdown",
   "id": "fc2fa009",
   "metadata": {},
   "source": [
    "#### Organizando o dataset."
   ]
  },
  {
   "cell_type": "code",
   "execution_count": 4,
   "id": "2f5b7a35",
   "metadata": {},
   "outputs": [],
   "source": [
    "df = df[['department', 'salary', 'mean_work_last_3_months',\n",
    "       'number_projects', 'satisfaction_level', 'last_evaluation',\n",
    "       'time_in_company', 'work_accident','left']]"
   ]
  },
  {
   "cell_type": "code",
   "execution_count": 5,
   "id": "b95448bd",
   "metadata": {
    "scrolled": true
   },
   "outputs": [
    {
     "data": {
      "text/html": [
       "<div>\n",
       "<style scoped>\n",
       "    .dataframe tbody tr th:only-of-type {\n",
       "        vertical-align: middle;\n",
       "    }\n",
       "\n",
       "    .dataframe tbody tr th {\n",
       "        vertical-align: top;\n",
       "    }\n",
       "\n",
       "    .dataframe thead th {\n",
       "        text-align: right;\n",
       "    }\n",
       "</style>\n",
       "<table border=\"1\" class=\"dataframe\">\n",
       "  <thead>\n",
       "    <tr style=\"text-align: right;\">\n",
       "      <th></th>\n",
       "      <th>department</th>\n",
       "      <th>salary</th>\n",
       "      <th>mean_work_last_3_months</th>\n",
       "      <th>number_projects</th>\n",
       "      <th>satisfaction_level</th>\n",
       "      <th>last_evaluation</th>\n",
       "      <th>time_in_company</th>\n",
       "      <th>work_accident</th>\n",
       "      <th>left</th>\n",
       "    </tr>\n",
       "  </thead>\n",
       "  <tbody>\n",
       "    <tr>\n",
       "      <th>0</th>\n",
       "      <td>sales</td>\n",
       "      <td>low</td>\n",
       "      <td>266.000000</td>\n",
       "      <td>2.0</td>\n",
       "      <td>38.0</td>\n",
       "      <td>53.0</td>\n",
       "      <td>3.0</td>\n",
       "      <td>0.0</td>\n",
       "      <td>1.0</td>\n",
       "    </tr>\n",
       "    <tr>\n",
       "      <th>1</th>\n",
       "      <td>sales</td>\n",
       "      <td>medium</td>\n",
       "      <td>252.000000</td>\n",
       "      <td>5.0</td>\n",
       "      <td>80.0</td>\n",
       "      <td>86.0</td>\n",
       "      <td>6.0</td>\n",
       "      <td>0.0</td>\n",
       "      <td>1.0</td>\n",
       "    </tr>\n",
       "    <tr>\n",
       "      <th>2</th>\n",
       "      <td>sales</td>\n",
       "      <td>medium</td>\n",
       "      <td>289.666667</td>\n",
       "      <td>7.0</td>\n",
       "      <td>11.0</td>\n",
       "      <td>88.0</td>\n",
       "      <td>4.0</td>\n",
       "      <td>0.0</td>\n",
       "      <td>1.0</td>\n",
       "    </tr>\n",
       "    <tr>\n",
       "      <th>3</th>\n",
       "      <td>sales</td>\n",
       "      <td>low</td>\n",
       "      <td>275.666667</td>\n",
       "      <td>5.0</td>\n",
       "      <td>72.0</td>\n",
       "      <td>87.0</td>\n",
       "      <td>5.0</td>\n",
       "      <td>0.0</td>\n",
       "      <td>1.0</td>\n",
       "    </tr>\n",
       "    <tr>\n",
       "      <th>4</th>\n",
       "      <td>sales</td>\n",
       "      <td>low</td>\n",
       "      <td>292.333333</td>\n",
       "      <td>2.0</td>\n",
       "      <td>37.0</td>\n",
       "      <td>52.0</td>\n",
       "      <td>3.0</td>\n",
       "      <td>0.0</td>\n",
       "      <td>1.0</td>\n",
       "    </tr>\n",
       "  </tbody>\n",
       "</table>\n",
       "</div>"
      ],
      "text/plain": [
       "  department  salary  mean_work_last_3_months  number_projects  \\\n",
       "0      sales     low               266.000000              2.0   \n",
       "1      sales  medium               252.000000              5.0   \n",
       "2      sales  medium               289.666667              7.0   \n",
       "3      sales     low               275.666667              5.0   \n",
       "4      sales     low               292.333333              2.0   \n",
       "\n",
       "   satisfaction_level  last_evaluation  time_in_company  work_accident  left  \n",
       "0                38.0             53.0              3.0            0.0   1.0  \n",
       "1                80.0             86.0              6.0            0.0   1.0  \n",
       "2                11.0             88.0              4.0            0.0   1.0  \n",
       "3                72.0             87.0              5.0            0.0   1.0  \n",
       "4                37.0             52.0              3.0            0.0   1.0  "
      ]
     },
     "execution_count": 5,
     "metadata": {},
     "output_type": "execute_result"
    }
   ],
   "source": [
    "df.head()"
   ]
  },
  {
   "cell_type": "markdown",
   "id": "2b4fa52c",
   "metadata": {},
   "source": [
    "#### Verificando os registros missing."
   ]
  },
  {
   "cell_type": "code",
   "execution_count": 6,
   "id": "65e92b9c",
   "metadata": {},
   "outputs": [
    {
     "data": {
      "text/plain": [
       "department                 1\n",
       "salary                     1\n",
       "mean_work_last_3_months    0\n",
       "number_projects            1\n",
       "satisfaction_level         1\n",
       "last_evaluation            1\n",
       "time_in_company            1\n",
       "work_accident              1\n",
       "left                       1\n",
       "dtype: int64"
      ]
     },
     "execution_count": 6,
     "metadata": {},
     "output_type": "execute_result"
    }
   ],
   "source": [
    "df.isnull().sum()"
   ]
  },
  {
   "cell_type": "code",
   "execution_count": 7,
   "id": "a6559f2c",
   "metadata": {},
   "outputs": [
    {
     "data": {
      "text/html": [
       "<div>\n",
       "<style scoped>\n",
       "    .dataframe tbody tr th:only-of-type {\n",
       "        vertical-align: middle;\n",
       "    }\n",
       "\n",
       "    .dataframe tbody tr th {\n",
       "        vertical-align: top;\n",
       "    }\n",
       "\n",
       "    .dataframe thead th {\n",
       "        text-align: right;\n",
       "    }\n",
       "</style>\n",
       "<table border=\"1\" class=\"dataframe\">\n",
       "  <thead>\n",
       "    <tr style=\"text-align: right;\">\n",
       "      <th></th>\n",
       "      <th>department</th>\n",
       "      <th>salary</th>\n",
       "      <th>mean_work_last_3_months</th>\n",
       "      <th>number_projects</th>\n",
       "      <th>satisfaction_level</th>\n",
       "      <th>last_evaluation</th>\n",
       "      <th>time_in_company</th>\n",
       "      <th>work_accident</th>\n",
       "      <th>left</th>\n",
       "    </tr>\n",
       "  </thead>\n",
       "  <tbody>\n",
       "    <tr>\n",
       "      <th>0</th>\n",
       "      <td>sales</td>\n",
       "      <td>low</td>\n",
       "      <td>266.000000</td>\n",
       "      <td>2.0</td>\n",
       "      <td>38.0</td>\n",
       "      <td>53.0</td>\n",
       "      <td>3.0</td>\n",
       "      <td>0.0</td>\n",
       "      <td>1.0</td>\n",
       "    </tr>\n",
       "    <tr>\n",
       "      <th>1</th>\n",
       "      <td>sales</td>\n",
       "      <td>medium</td>\n",
       "      <td>252.000000</td>\n",
       "      <td>5.0</td>\n",
       "      <td>80.0</td>\n",
       "      <td>86.0</td>\n",
       "      <td>6.0</td>\n",
       "      <td>0.0</td>\n",
       "      <td>1.0</td>\n",
       "    </tr>\n",
       "    <tr>\n",
       "      <th>2</th>\n",
       "      <td>sales</td>\n",
       "      <td>medium</td>\n",
       "      <td>289.666667</td>\n",
       "      <td>7.0</td>\n",
       "      <td>11.0</td>\n",
       "      <td>88.0</td>\n",
       "      <td>4.0</td>\n",
       "      <td>0.0</td>\n",
       "      <td>1.0</td>\n",
       "    </tr>\n",
       "    <tr>\n",
       "      <th>3</th>\n",
       "      <td>sales</td>\n",
       "      <td>low</td>\n",
       "      <td>275.666667</td>\n",
       "      <td>5.0</td>\n",
       "      <td>72.0</td>\n",
       "      <td>87.0</td>\n",
       "      <td>5.0</td>\n",
       "      <td>0.0</td>\n",
       "      <td>1.0</td>\n",
       "    </tr>\n",
       "    <tr>\n",
       "      <th>4</th>\n",
       "      <td>sales</td>\n",
       "      <td>low</td>\n",
       "      <td>292.333333</td>\n",
       "      <td>2.0</td>\n",
       "      <td>37.0</td>\n",
       "      <td>52.0</td>\n",
       "      <td>3.0</td>\n",
       "      <td>0.0</td>\n",
       "      <td>1.0</td>\n",
       "    </tr>\n",
       "    <tr>\n",
       "      <th>...</th>\n",
       "      <td>...</td>\n",
       "      <td>...</td>\n",
       "      <td>...</td>\n",
       "      <td>...</td>\n",
       "      <td>...</td>\n",
       "      <td>...</td>\n",
       "      <td>...</td>\n",
       "      <td>...</td>\n",
       "      <td>...</td>\n",
       "    </tr>\n",
       "    <tr>\n",
       "      <th>14995</th>\n",
       "      <td>technical</td>\n",
       "      <td>low</td>\n",
       "      <td>253.333333</td>\n",
       "      <td>2.0</td>\n",
       "      <td>37.0</td>\n",
       "      <td>48.0</td>\n",
       "      <td>3.0</td>\n",
       "      <td>0.0</td>\n",
       "      <td>1.0</td>\n",
       "    </tr>\n",
       "    <tr>\n",
       "      <th>14996</th>\n",
       "      <td>technical</td>\n",
       "      <td>medium</td>\n",
       "      <td>288.000000</td>\n",
       "      <td>2.0</td>\n",
       "      <td>37.0</td>\n",
       "      <td>53.0</td>\n",
       "      <td>3.0</td>\n",
       "      <td>0.0</td>\n",
       "      <td>1.0</td>\n",
       "    </tr>\n",
       "    <tr>\n",
       "      <th>14997</th>\n",
       "      <td>support</td>\n",
       "      <td>low</td>\n",
       "      <td>272.000000</td>\n",
       "      <td>6.0</td>\n",
       "      <td>11.0</td>\n",
       "      <td>96.0</td>\n",
       "      <td>4.0</td>\n",
       "      <td>0.0</td>\n",
       "      <td>1.0</td>\n",
       "    </tr>\n",
       "    <tr>\n",
       "      <th>14998</th>\n",
       "      <td>support</td>\n",
       "      <td>low</td>\n",
       "      <td>276.666667</td>\n",
       "      <td>2.0</td>\n",
       "      <td>37.0</td>\n",
       "      <td>52.0</td>\n",
       "      <td>3.0</td>\n",
       "      <td>0.0</td>\n",
       "      <td>1.0</td>\n",
       "    </tr>\n",
       "    <tr>\n",
       "      <th>14999</th>\n",
       "      <td>NaN</td>\n",
       "      <td>NaN</td>\n",
       "      <td>261.000000</td>\n",
       "      <td>NaN</td>\n",
       "      <td>NaN</td>\n",
       "      <td>NaN</td>\n",
       "      <td>NaN</td>\n",
       "      <td>NaN</td>\n",
       "      <td>NaN</td>\n",
       "    </tr>\n",
       "  </tbody>\n",
       "</table>\n",
       "<p>15000 rows × 9 columns</p>\n",
       "</div>"
      ],
      "text/plain": [
       "      department  salary  mean_work_last_3_months  number_projects  \\\n",
       "0          sales     low               266.000000              2.0   \n",
       "1          sales  medium               252.000000              5.0   \n",
       "2          sales  medium               289.666667              7.0   \n",
       "3          sales     low               275.666667              5.0   \n",
       "4          sales     low               292.333333              2.0   \n",
       "...          ...     ...                      ...              ...   \n",
       "14995  technical     low               253.333333              2.0   \n",
       "14996  technical  medium               288.000000              2.0   \n",
       "14997    support     low               272.000000              6.0   \n",
       "14998    support     low               276.666667              2.0   \n",
       "14999        NaN     NaN               261.000000              NaN   \n",
       "\n",
       "       satisfaction_level  last_evaluation  time_in_company  work_accident  \\\n",
       "0                    38.0             53.0              3.0            0.0   \n",
       "1                    80.0             86.0              6.0            0.0   \n",
       "2                    11.0             88.0              4.0            0.0   \n",
       "3                    72.0             87.0              5.0            0.0   \n",
       "4                    37.0             52.0              3.0            0.0   \n",
       "...                   ...              ...              ...            ...   \n",
       "14995                37.0             48.0              3.0            0.0   \n",
       "14996                37.0             53.0              3.0            0.0   \n",
       "14997                11.0             96.0              4.0            0.0   \n",
       "14998                37.0             52.0              3.0            0.0   \n",
       "14999                 NaN              NaN              NaN            NaN   \n",
       "\n",
       "       left  \n",
       "0       1.0  \n",
       "1       1.0  \n",
       "2       1.0  \n",
       "3       1.0  \n",
       "4       1.0  \n",
       "...     ...  \n",
       "14995   1.0  \n",
       "14996   1.0  \n",
       "14997   1.0  \n",
       "14998   1.0  \n",
       "14999   NaN  \n",
       "\n",
       "[15000 rows x 9 columns]"
      ]
     },
     "execution_count": 7,
     "metadata": {},
     "output_type": "execute_result"
    }
   ],
   "source": [
    "df[df.notnull()]"
   ]
  },
  {
   "cell_type": "code",
   "execution_count": 8,
   "id": "42ea9765",
   "metadata": {},
   "outputs": [],
   "source": [
    "df = df[:14998]"
   ]
  },
  {
   "cell_type": "markdown",
   "id": "6345aae2",
   "metadata": {},
   "source": [
    "#### Alterando os tipos de dados."
   ]
  },
  {
   "cell_type": "code",
   "execution_count": 9,
   "id": "3bed250e",
   "metadata": {},
   "outputs": [],
   "source": [
    "df[\"number_projects\"] = df[\"number_projects\"].astype(int)\n",
    "df[\"mean_work_last_3_months\"] = df[\"mean_work_last_3_months\"].astype(int)\n",
    "df[\"time_in_company\"] = df[\"time_in_company\"].astype(int)\n",
    "df[\"work_accident\"] = df[\"work_accident\"].astype(int)\n",
    "df[\"left\"] = df[\"left\"].astype(int)"
   ]
  },
  {
   "cell_type": "code",
   "execution_count": 10,
   "id": "d41aab97",
   "metadata": {},
   "outputs": [
    {
     "name": "stdout",
     "output_type": "stream",
     "text": [
      "<class 'pandas.core.frame.DataFrame'>\n",
      "RangeIndex: 14998 entries, 0 to 14997\n",
      "Data columns (total 9 columns):\n",
      " #   Column                   Non-Null Count  Dtype  \n",
      "---  ------                   --------------  -----  \n",
      " 0   department               14998 non-null  object \n",
      " 1   salary                   14998 non-null  object \n",
      " 2   mean_work_last_3_months  14998 non-null  int32  \n",
      " 3   number_projects          14998 non-null  int32  \n",
      " 4   satisfaction_level       14998 non-null  float64\n",
      " 5   last_evaluation          14998 non-null  float64\n",
      " 6   time_in_company          14998 non-null  int32  \n",
      " 7   work_accident            14998 non-null  int32  \n",
      " 8   left                     14998 non-null  int32  \n",
      "dtypes: float64(2), int32(5), object(2)\n",
      "memory usage: 761.7+ KB\n"
     ]
    }
   ],
   "source": [
    "df.info()"
   ]
  },
  {
   "cell_type": "code",
   "execution_count": 11,
   "id": "b3be9995",
   "metadata": {},
   "outputs": [
    {
     "data": {
      "text/html": [
       "<div>\n",
       "<style scoped>\n",
       "    .dataframe tbody tr th:only-of-type {\n",
       "        vertical-align: middle;\n",
       "    }\n",
       "\n",
       "    .dataframe tbody tr th {\n",
       "        vertical-align: top;\n",
       "    }\n",
       "\n",
       "    .dataframe thead th {\n",
       "        text-align: right;\n",
       "    }\n",
       "</style>\n",
       "<table border=\"1\" class=\"dataframe\">\n",
       "  <thead>\n",
       "    <tr style=\"text-align: right;\">\n",
       "      <th></th>\n",
       "      <th>department</th>\n",
       "      <th>salary</th>\n",
       "      <th>mean_work_last_3_months</th>\n",
       "      <th>number_projects</th>\n",
       "      <th>satisfaction_level</th>\n",
       "      <th>last_evaluation</th>\n",
       "      <th>time_in_company</th>\n",
       "      <th>work_accident</th>\n",
       "      <th>left</th>\n",
       "    </tr>\n",
       "  </thead>\n",
       "  <tbody>\n",
       "    <tr>\n",
       "      <th>0</th>\n",
       "      <td>sales</td>\n",
       "      <td>low</td>\n",
       "      <td>266</td>\n",
       "      <td>2</td>\n",
       "      <td>38.0</td>\n",
       "      <td>53.0</td>\n",
       "      <td>3</td>\n",
       "      <td>0</td>\n",
       "      <td>1</td>\n",
       "    </tr>\n",
       "    <tr>\n",
       "      <th>1</th>\n",
       "      <td>sales</td>\n",
       "      <td>medium</td>\n",
       "      <td>252</td>\n",
       "      <td>5</td>\n",
       "      <td>80.0</td>\n",
       "      <td>86.0</td>\n",
       "      <td>6</td>\n",
       "      <td>0</td>\n",
       "      <td>1</td>\n",
       "    </tr>\n",
       "    <tr>\n",
       "      <th>2</th>\n",
       "      <td>sales</td>\n",
       "      <td>medium</td>\n",
       "      <td>289</td>\n",
       "      <td>7</td>\n",
       "      <td>11.0</td>\n",
       "      <td>88.0</td>\n",
       "      <td>4</td>\n",
       "      <td>0</td>\n",
       "      <td>1</td>\n",
       "    </tr>\n",
       "    <tr>\n",
       "      <th>3</th>\n",
       "      <td>sales</td>\n",
       "      <td>low</td>\n",
       "      <td>275</td>\n",
       "      <td>5</td>\n",
       "      <td>72.0</td>\n",
       "      <td>87.0</td>\n",
       "      <td>5</td>\n",
       "      <td>0</td>\n",
       "      <td>1</td>\n",
       "    </tr>\n",
       "    <tr>\n",
       "      <th>4</th>\n",
       "      <td>sales</td>\n",
       "      <td>low</td>\n",
       "      <td>292</td>\n",
       "      <td>2</td>\n",
       "      <td>37.0</td>\n",
       "      <td>52.0</td>\n",
       "      <td>3</td>\n",
       "      <td>0</td>\n",
       "      <td>1</td>\n",
       "    </tr>\n",
       "  </tbody>\n",
       "</table>\n",
       "</div>"
      ],
      "text/plain": [
       "  department  salary  mean_work_last_3_months  number_projects  \\\n",
       "0      sales     low                      266                2   \n",
       "1      sales  medium                      252                5   \n",
       "2      sales  medium                      289                7   \n",
       "3      sales     low                      275                5   \n",
       "4      sales     low                      292                2   \n",
       "\n",
       "   satisfaction_level  last_evaluation  time_in_company  work_accident  left  \n",
       "0                38.0             53.0                3              0     1  \n",
       "1                80.0             86.0                6              0     1  \n",
       "2                11.0             88.0                4              0     1  \n",
       "3                72.0             87.0                5              0     1  \n",
       "4                37.0             52.0                3              0     1  "
      ]
     },
     "execution_count": 11,
     "metadata": {},
     "output_type": "execute_result"
    }
   ],
   "source": [
    "df.head()"
   ]
  },
  {
   "cell_type": "code",
   "execution_count": 12,
   "id": "4c53b942",
   "metadata": {},
   "outputs": [],
   "source": [
    "df = df[:14998]"
   ]
  },
  {
   "cell_type": "markdown",
   "id": "0732373c",
   "metadata": {},
   "source": [
    "#### Renomeando atributos"
   ]
  },
  {
   "cell_type": "code",
   "execution_count": 13,
   "id": "e51e02de",
   "metadata": {},
   "outputs": [],
   "source": [
    "df = df.rename(columns={'satisfaction_level': 'satisfaction', \n",
    "                        'last_evaluation': 'evaluation',\n",
    "                        'number_projects': 'projectCount',\n",
    "                        'mean_work_last_3_months': 'averageMonthlyHours',\n",
    "                        'time_in_company': 'yearsAtCompany',\n",
    "                        'work_accident': 'workAccident',\n",
    "                        'left' : 'turnover'\n",
    "                        })"
   ]
  },
  {
   "cell_type": "code",
   "execution_count": 14,
   "id": "8df7f8fd",
   "metadata": {
    "scrolled": true
   },
   "outputs": [
    {
     "data": {
      "text/html": [
       "<div>\n",
       "<style scoped>\n",
       "    .dataframe tbody tr th:only-of-type {\n",
       "        vertical-align: middle;\n",
       "    }\n",
       "\n",
       "    .dataframe tbody tr th {\n",
       "        vertical-align: top;\n",
       "    }\n",
       "\n",
       "    .dataframe thead th {\n",
       "        text-align: right;\n",
       "    }\n",
       "</style>\n",
       "<table border=\"1\" class=\"dataframe\">\n",
       "  <thead>\n",
       "    <tr style=\"text-align: right;\">\n",
       "      <th></th>\n",
       "      <th>department</th>\n",
       "      <th>salary</th>\n",
       "      <th>averageMonthlyHours</th>\n",
       "      <th>projectCount</th>\n",
       "      <th>satisfaction</th>\n",
       "      <th>evaluation</th>\n",
       "      <th>yearsAtCompany</th>\n",
       "      <th>workAccident</th>\n",
       "      <th>turnover</th>\n",
       "    </tr>\n",
       "  </thead>\n",
       "  <tbody>\n",
       "    <tr>\n",
       "      <th>0</th>\n",
       "      <td>sales</td>\n",
       "      <td>low</td>\n",
       "      <td>266</td>\n",
       "      <td>2</td>\n",
       "      <td>38.0</td>\n",
       "      <td>53.0</td>\n",
       "      <td>3</td>\n",
       "      <td>0</td>\n",
       "      <td>1</td>\n",
       "    </tr>\n",
       "    <tr>\n",
       "      <th>1</th>\n",
       "      <td>sales</td>\n",
       "      <td>medium</td>\n",
       "      <td>252</td>\n",
       "      <td>5</td>\n",
       "      <td>80.0</td>\n",
       "      <td>86.0</td>\n",
       "      <td>6</td>\n",
       "      <td>0</td>\n",
       "      <td>1</td>\n",
       "    </tr>\n",
       "    <tr>\n",
       "      <th>2</th>\n",
       "      <td>sales</td>\n",
       "      <td>medium</td>\n",
       "      <td>289</td>\n",
       "      <td>7</td>\n",
       "      <td>11.0</td>\n",
       "      <td>88.0</td>\n",
       "      <td>4</td>\n",
       "      <td>0</td>\n",
       "      <td>1</td>\n",
       "    </tr>\n",
       "    <tr>\n",
       "      <th>3</th>\n",
       "      <td>sales</td>\n",
       "      <td>low</td>\n",
       "      <td>275</td>\n",
       "      <td>5</td>\n",
       "      <td>72.0</td>\n",
       "      <td>87.0</td>\n",
       "      <td>5</td>\n",
       "      <td>0</td>\n",
       "      <td>1</td>\n",
       "    </tr>\n",
       "    <tr>\n",
       "      <th>4</th>\n",
       "      <td>sales</td>\n",
       "      <td>low</td>\n",
       "      <td>292</td>\n",
       "      <td>2</td>\n",
       "      <td>37.0</td>\n",
       "      <td>52.0</td>\n",
       "      <td>3</td>\n",
       "      <td>0</td>\n",
       "      <td>1</td>\n",
       "    </tr>\n",
       "  </tbody>\n",
       "</table>\n",
       "</div>"
      ],
      "text/plain": [
       "  department  salary  averageMonthlyHours  projectCount  satisfaction  \\\n",
       "0      sales     low                  266             2          38.0   \n",
       "1      sales  medium                  252             5          80.0   \n",
       "2      sales  medium                  289             7          11.0   \n",
       "3      sales     low                  275             5          72.0   \n",
       "4      sales     low                  292             2          37.0   \n",
       "\n",
       "   evaluation  yearsAtCompany  workAccident  turnover  \n",
       "0        53.0               3             0         1  \n",
       "1        86.0               6             0         1  \n",
       "2        88.0               4             0         1  \n",
       "3        87.0               5             0         1  \n",
       "4        52.0               3             0         1  "
      ]
     },
     "execution_count": 14,
     "metadata": {},
     "output_type": "execute_result"
    }
   ],
   "source": [
    "df.head()"
   ]
  },
  {
   "cell_type": "markdown",
   "id": "fcc89e8b",
   "metadata": {},
   "source": [
    "###  Importancia de Features"
   ]
  },
  {
   "cell_type": "markdown",
   "id": "d37217ce",
   "metadata": {},
   "source": [
    "#### Converte os atributos categoricos valores numéricos."
   ]
  },
  {
   "cell_type": "code",
   "execution_count": 15,
   "id": "82cf4bb1",
   "metadata": {},
   "outputs": [],
   "source": [
    "df[\"department\"] = df[\"department\"].astype('category').cat.codes\n",
    "df[\"salary\"] = df[\"salary\"].astype('category').cat.codes"
   ]
  },
  {
   "cell_type": "code",
   "execution_count": 16,
   "id": "8a44672c",
   "metadata": {},
   "outputs": [
    {
     "data": {
      "text/html": [
       "<div>\n",
       "<style scoped>\n",
       "    .dataframe tbody tr th:only-of-type {\n",
       "        vertical-align: middle;\n",
       "    }\n",
       "\n",
       "    .dataframe tbody tr th {\n",
       "        vertical-align: top;\n",
       "    }\n",
       "\n",
       "    .dataframe thead th {\n",
       "        text-align: right;\n",
       "    }\n",
       "</style>\n",
       "<table border=\"1\" class=\"dataframe\">\n",
       "  <thead>\n",
       "    <tr style=\"text-align: right;\">\n",
       "      <th></th>\n",
       "      <th>department</th>\n",
       "      <th>salary</th>\n",
       "      <th>averageMonthlyHours</th>\n",
       "      <th>projectCount</th>\n",
       "      <th>satisfaction</th>\n",
       "      <th>evaluation</th>\n",
       "      <th>yearsAtCompany</th>\n",
       "      <th>workAccident</th>\n",
       "      <th>turnover</th>\n",
       "    </tr>\n",
       "  </thead>\n",
       "  <tbody>\n",
       "    <tr>\n",
       "      <th>0</th>\n",
       "      <td>7</td>\n",
       "      <td>1</td>\n",
       "      <td>266</td>\n",
       "      <td>2</td>\n",
       "      <td>38.0</td>\n",
       "      <td>53.0</td>\n",
       "      <td>3</td>\n",
       "      <td>0</td>\n",
       "      <td>1</td>\n",
       "    </tr>\n",
       "    <tr>\n",
       "      <th>1</th>\n",
       "      <td>7</td>\n",
       "      <td>2</td>\n",
       "      <td>252</td>\n",
       "      <td>5</td>\n",
       "      <td>80.0</td>\n",
       "      <td>86.0</td>\n",
       "      <td>6</td>\n",
       "      <td>0</td>\n",
       "      <td>1</td>\n",
       "    </tr>\n",
       "    <tr>\n",
       "      <th>2</th>\n",
       "      <td>7</td>\n",
       "      <td>2</td>\n",
       "      <td>289</td>\n",
       "      <td>7</td>\n",
       "      <td>11.0</td>\n",
       "      <td>88.0</td>\n",
       "      <td>4</td>\n",
       "      <td>0</td>\n",
       "      <td>1</td>\n",
       "    </tr>\n",
       "    <tr>\n",
       "      <th>3</th>\n",
       "      <td>7</td>\n",
       "      <td>1</td>\n",
       "      <td>275</td>\n",
       "      <td>5</td>\n",
       "      <td>72.0</td>\n",
       "      <td>87.0</td>\n",
       "      <td>5</td>\n",
       "      <td>0</td>\n",
       "      <td>1</td>\n",
       "    </tr>\n",
       "    <tr>\n",
       "      <th>4</th>\n",
       "      <td>7</td>\n",
       "      <td>1</td>\n",
       "      <td>292</td>\n",
       "      <td>2</td>\n",
       "      <td>37.0</td>\n",
       "      <td>52.0</td>\n",
       "      <td>3</td>\n",
       "      <td>0</td>\n",
       "      <td>1</td>\n",
       "    </tr>\n",
       "  </tbody>\n",
       "</table>\n",
       "</div>"
      ],
      "text/plain": [
       "   department  salary  averageMonthlyHours  projectCount  satisfaction  \\\n",
       "0           7       1                  266             2          38.0   \n",
       "1           7       2                  252             5          80.0   \n",
       "2           7       2                  289             7          11.0   \n",
       "3           7       1                  275             5          72.0   \n",
       "4           7       1                  292             2          37.0   \n",
       "\n",
       "   evaluation  yearsAtCompany  workAccident  turnover  \n",
       "0        53.0               3             0         1  \n",
       "1        86.0               6             0         1  \n",
       "2        88.0               4             0         1  \n",
       "3        87.0               5             0         1  \n",
       "4        52.0               3             0         1  "
      ]
     },
     "execution_count": 16,
     "metadata": {},
     "output_type": "execute_result"
    }
   ],
   "source": [
    "df.head()"
   ]
  },
  {
   "cell_type": "markdown",
   "id": "702c4176",
   "metadata": {},
   "source": [
    "#### Separando os conjuntos de dados."
   ]
  },
  {
   "cell_type": "code",
   "execution_count": 18,
   "id": "d1bfeadb",
   "metadata": {},
   "outputs": [],
   "source": [
    "target_name = 'turnover'\n",
    "X = df.drop('turnover', axis=1)\n",
    "y = df[target_name]"
   ]
  },
  {
   "cell_type": "markdown",
   "id": "884842ca",
   "metadata": {},
   "source": [
    "#### Transformando os dados."
   ]
  },
  {
   "cell_type": "code",
   "execution_count": 21,
   "id": "9c78bc04",
   "metadata": {},
   "outputs": [],
   "source": [
    "from sklearn.preprocessing import MinMaxScaler"
   ]
  },
  {
   "cell_type": "code",
   "execution_count": 22,
   "id": "7a8ffe3c",
   "metadata": {},
   "outputs": [],
   "source": [
    "scaler = MinMaxScaler()"
   ]
  },
  {
   "cell_type": "code",
   "execution_count": 23,
   "id": "67d7112f",
   "metadata": {},
   "outputs": [],
   "source": [
    "X = scaler.fit_transform(X)"
   ]
  },
  {
   "cell_type": "code",
   "execution_count": 24,
   "id": "360fa4fb",
   "metadata": {},
   "outputs": [
    {
     "data": {
      "text/plain": [
       "array([[0.77777778, 0.5       , 0.38202247, ..., 0.265625  , 0.125     ,\n",
       "        0.        ],\n",
       "       [0.77777778, 1.        , 0.2247191 , ..., 0.78125   , 0.5       ,\n",
       "        0.        ],\n",
       "       [0.77777778, 1.        , 0.64044944, ..., 0.8125    , 0.25      ,\n",
       "        0.        ],\n",
       "       ...,\n",
       "       [1.        , 0.5       , 0.23595506, ..., 0.1875    , 0.125     ,\n",
       "        0.        ],\n",
       "       [1.        , 1.        , 0.62921348, ..., 0.265625  , 0.125     ,\n",
       "        0.        ],\n",
       "       [0.88888889, 0.5       , 0.4494382 , ..., 0.9375    , 0.25      ,\n",
       "        0.        ]])"
      ]
     },
     "execution_count": 24,
     "metadata": {},
     "output_type": "execute_result"
    }
   ],
   "source": [
    "X"
   ]
  },
  {
   "cell_type": "markdown",
   "id": "3f13d4d6",
   "metadata": {},
   "source": [
    "#### Separando os conjuntos."
   ]
  },
  {
   "cell_type": "code",
   "execution_count": 25,
   "id": "965c31d7",
   "metadata": {},
   "outputs": [],
   "source": [
    "from sklearn.model_selection import train_test_split"
   ]
  },
  {
   "cell_type": "code",
   "execution_count": 26,
   "id": "ab76666d",
   "metadata": {},
   "outputs": [],
   "source": [
    "X_train, X_test, y_train, y_test = train_test_split(\n",
    "        X\n",
    "       ,y\n",
    "       ,test_size = 0.2\n",
    "       ,random_state = 123\n",
    "       ,stratify = y\n",
    ")"
   ]
  },
  {
   "cell_type": "markdown",
   "id": "648148e9",
   "metadata": {},
   "source": [
    "#### Treinando o algoritmo de arvore de decisão."
   ]
  },
  {
   "cell_type": "code",
   "execution_count": 27,
   "id": "f99c9c51",
   "metadata": {},
   "outputs": [],
   "source": [
    "from sklearn.tree import DecisionTreeClassifier"
   ]
  },
  {
   "cell_type": "code",
   "execution_count": 28,
   "id": "b5b14190",
   "metadata": {},
   "outputs": [],
   "source": [
    "dtree = DecisionTreeClassifier()\n",
    "dtree = dtree.fit(X_train,y_train)"
   ]
  },
  {
   "cell_type": "code",
   "execution_count": 29,
   "id": "ccf50fa2",
   "metadata": {},
   "outputs": [],
   "source": [
    "importances = dtree.feature_importances_\n",
    "feat_names = df.drop(['turnover'],axis=1).columns"
   ]
  },
  {
   "cell_type": "code",
   "execution_count": 30,
   "id": "5479849c",
   "metadata": {},
   "outputs": [
    {
     "data": {
      "image/png": "[encoded data removed]",
      "text/plain": [
       "<Figure size 864x288 with 1 Axes>"
      ]
     },
     "metadata": {
      "needs_background": "light"
     },
     "output_type": "display_data"
    }
   ],
   "source": [
    "indices = np.argsort(importances)[::-1]\n",
    "plt.figure(figsize=(12,4))\n",
    "plt.title(\"Feature importances by DecisionTreeClassifier\")\n",
    "plt.bar(range(len(indices)), importances[indices], color='lightblue',  align=\"center\")\n",
    "plt.xticks(range(len(indices)), feat_names[indices], rotation='vertical',fontsize=14)\n",
    "plt.xlim([-1, len(indices)])\n",
    "plt.show()"
   ]
  },
  {
   "cell_type": "markdown",
   "id": "7a2f50ad",
   "metadata": {},
   "source": [
    "#### Filtrando apenas os atributos relevantes."
   ]
  },
  {
   "cell_type": "code",
   "execution_count": 31,
   "id": "7363c56e",
   "metadata": {},
   "outputs": [],
   "source": [
    "X = df[[\"satisfaction\",\"evaluation\",\"averageMonthlyHours\",\"yearsAtCompany\"]]"
   ]
  },
  {
   "cell_type": "markdown",
   "id": "c608f61f",
   "metadata": {},
   "source": [
    "#### Separando os conjuntos de dados."
   ]
  },
  {
   "cell_type": "code",
   "execution_count": 32,
   "id": "b7bfe235",
   "metadata": {},
   "outputs": [],
   "source": [
    "scaler = MinMaxScaler()"
   ]
  },
  {
   "cell_type": "code",
   "execution_count": 33,
   "id": "9ace1d75",
   "metadata": {},
   "outputs": [],
   "source": [
    "X = scaler.fit_transform(X)"
   ]
  },
  {
   "cell_type": "code",
   "execution_count": 34,
   "id": "6df47cb3",
   "metadata": {},
   "outputs": [],
   "source": [
    "X_train, X_test, y_train, y_test = train_test_split(\n",
    "        X\n",
    "       ,y\n",
    "       ,test_size = 0.2\n",
    "       ,random_state = 123\n",
    "       ,stratify = y\n",
    ")"
   ]
  },
  {
   "cell_type": "code",
   "execution_count": 35,
   "id": "ee19664d",
   "metadata": {},
   "outputs": [
    {
     "data": {
      "text/plain": [
       "array([[0.59340659, 0.21875   , 0.40449438, 0.125     ],\n",
       "       [0.        , 0.703125  , 0.41573034, 0.25      ],\n",
       "       [0.3956044 , 0.28125   , 0.58426966, 0.125     ],\n",
       "       ...,\n",
       "       [0.32967033, 0.3125    , 0.59550562, 0.125     ],\n",
       "       [0.92307692, 0.28125   , 0.46067416, 0.        ],\n",
       "       [0.51648352, 0.5       , 0.53932584, 0.125     ]])"
      ]
     },
     "execution_count": 35,
     "metadata": {},
     "output_type": "execute_result"
    }
   ],
   "source": [
    "X_train"
   ]
  },
  {
   "cell_type": "markdown",
   "id": "233aef35",
   "metadata": {},
   "source": [
    "#### Função do modelo de base."
   ]
  },
  {
   "cell_type": "code",
   "execution_count": 37,
   "id": "862ce2ee",
   "metadata": {},
   "outputs": [],
   "source": [
    "def base_rate_model(X) :\n",
    "    y = np.zeros(X.shape[0])\n",
    "    return y"
   ]
  },
  {
   "cell_type": "markdown",
   "id": "9409f9ad",
   "metadata": {},
   "source": [
    "#### Importando métodos de métrica de avaliação."
   ]
  },
  {
   "cell_type": "code",
   "execution_count": 38,
   "id": "4c3e5be0",
   "metadata": {},
   "outputs": [],
   "source": [
    "from sklearn.metrics import roc_auc_score\n",
    "from sklearn.metrics import accuracy_score\n",
    "from sklearn.metrics import classification_report"
   ]
  },
  {
   "cell_type": "code",
   "execution_count": 39,
   "id": "f5a951ed",
   "metadata": {},
   "outputs": [],
   "source": [
    "def accuracy_result(y_test,y_predict):\n",
    "    acc = accuracy_score(y_test, y_predict)\n",
    "    print (\"Accuracy = %2.2f\" % acc)"
   ]
  },
  {
   "cell_type": "code",
   "execution_count": 40,
   "id": "c26617eb",
   "metadata": {},
   "outputs": [],
   "source": [
    "def roc_classification_report_results(model,y_test,y_predict):\n",
    "    roc_ = roc_auc_score(y_test, y_predict)\n",
    "    classfication_report = classification_report(y_test, y_predict)\n",
    "    \n",
    "    print (\"\\n{} AUC = {}\\n\".format(model, roc_))\n",
    "    print(classfication_report)"
   ]
  },
  {
   "cell_type": "markdown",
   "id": "08b4adeb",
   "metadata": {},
   "source": [
    "#### Análise do modelo de baseline"
   ]
  },
  {
   "cell_type": "code",
   "execution_count": 44,
   "id": "0aebf1fb",
   "metadata": {},
   "outputs": [],
   "source": [
    "y_predict = base_rate_model(X_test)"
   ]
  },
  {
   "cell_type": "code",
   "execution_count": 45,
   "id": "02804d58",
   "metadata": {},
   "outputs": [
    {
     "name": "stdout",
     "output_type": "stream",
     "text": [
      "Accuracy = 0.76\n"
     ]
    }
   ],
   "source": [
    "accuracy_result(y_test, y_predict)"
   ]
  },
  {
   "cell_type": "code",
   "execution_count": 46,
   "id": "905cac5f",
   "metadata": {},
   "outputs": [
    {
     "name": "stdout",
     "output_type": "stream",
     "text": [
      "\n",
      "Base Model AUC = 0.5\n",
      "\n",
      "              precision    recall  f1-score   support\n",
      "\n",
      "           0       0.76      1.00      0.86      2286\n",
      "           1       0.00      0.00      0.00       714\n",
      "\n",
      "    accuracy                           0.76      3000\n",
      "   macro avg       0.38      0.50      0.43      3000\n",
      "weighted avg       0.58      0.76      0.66      3000\n",
      "\n"
     ]
    },
    {
     "name": "stderr",
     "output_type": "stream",
     "text": [
      "C:\\Program Files\\Python39\\lib\\site-packages\\sklearn\\metrics\\_classification.py:1248: UndefinedMetricWarning: Precision and F-score are ill-defined and being set to 0.0 in labels with no predicted samples. Use `zero_division` parameter to control this behavior.\n",
      "  _warn_prf(average, modifier, msg_start, len(result))\n",
      "C:\\Program Files\\Python39\\lib\\site-packages\\sklearn\\metrics\\_classification.py:1248: UndefinedMetricWarning: Precision and F-score are ill-defined and being set to 0.0 in labels with no predicted samples. Use `zero_division` parameter to control this behavior.\n",
      "  _warn_prf(average, modifier, msg_start, len(result))\n",
      "C:\\Program Files\\Python39\\lib\\site-packages\\sklearn\\metrics\\_classification.py:1248: UndefinedMetricWarning: Precision and F-score are ill-defined and being set to 0.0 in labels with no predicted samples. Use `zero_division` parameter to control this behavior.\n",
      "  _warn_prf(average, modifier, msg_start, len(result))\n"
     ]
    }
   ],
   "source": [
    "roc_classification_report_results(\"Base Model\", y_test, y_predict)"
   ]
  },
  {
   "cell_type": "markdown",
   "id": "04850a75",
   "metadata": {},
   "source": [
    "### Modelo de Regressão Logística."
   ]
  },
  {
   "cell_type": "markdown",
   "id": "9a11b173",
   "metadata": {},
   "source": [
    "#### Instânciando o algoritmo."
   ]
  },
  {
   "cell_type": "code",
   "execution_count": 47,
   "id": "f9f2bc15",
   "metadata": {},
   "outputs": [],
   "source": [
    "from sklearn.linear_model import LogisticRegression\n",
    "logis = LogisticRegression()"
   ]
  },
  {
   "cell_type": "markdown",
   "id": "a6369bc1",
   "metadata": {},
   "source": [
    "#### Realizando o treinamento."
   ]
  },
  {
   "cell_type": "code",
   "execution_count": 52,
   "id": "3f761af6",
   "metadata": {
    "scrolled": true
   },
   "outputs": [
    {
     "data": {
      "text/plain": [
       "LogisticRegression()"
      ]
     },
     "execution_count": 52,
     "metadata": {},
     "output_type": "execute_result"
    }
   ],
   "source": [
    "logis.fit(X_train, y_train)"
   ]
  },
  {
   "cell_type": "markdown",
   "id": "03651c5a",
   "metadata": {},
   "source": [
    "#### Calculando as predições."
   ]
  },
  {
   "cell_type": "code",
   "execution_count": 53,
   "id": "cd138e3c",
   "metadata": {},
   "outputs": [],
   "source": [
    "y_predict = logis.predict(X_test)"
   ]
  },
  {
   "cell_type": "markdown",
   "id": "ad0e75d9",
   "metadata": {},
   "source": [
    "#### Avaliando o resultado."
   ]
  },
  {
   "cell_type": "code",
   "execution_count": 54,
   "id": "da03dbe1",
   "metadata": {},
   "outputs": [
    {
     "name": "stdout",
     "output_type": "stream",
     "text": [
      "Accuracy = 0.77\n"
     ]
    }
   ],
   "source": [
    "accuracy_result(y_test, y_predict)"
   ]
  },
  {
   "cell_type": "code",
   "execution_count": 55,
   "id": "4800a256",
   "metadata": {},
   "outputs": [
    {
     "name": "stdout",
     "output_type": "stream",
     "text": [
      "\n",
      "Logistic Regression AUC = 0.5406235985207731\n",
      "\n",
      "              precision    recall  f1-score   support\n",
      "\n",
      "           0       0.78      0.97      0.86      2286\n",
      "           1       0.55      0.11      0.18       714\n",
      "\n",
      "    accuracy                           0.77      3000\n",
      "   macro avg       0.66      0.54      0.52      3000\n",
      "weighted avg       0.72      0.77      0.70      3000\n",
      "\n"
     ]
    }
   ],
   "source": [
    "roc_classification_report_results(\"Logistic Regression\", y_test, y_predict)"
   ]
  },
  {
   "cell_type": "markdown",
   "id": "00aaac7c",
   "metadata": {},
   "source": [
    "### Modelo de Arvore de decisão."
   ]
  },
  {
   "cell_type": "markdown",
   "id": "33524aac",
   "metadata": {},
   "source": [
    "#### Instânciando o algoritmo."
   ]
  },
  {
   "cell_type": "code",
   "execution_count": 56,
   "id": "95c50872",
   "metadata": {},
   "outputs": [],
   "source": [
    "from sklearn.tree import DecisionTreeClassifier\n",
    "dtree = DecisionTreeClassifier()"
   ]
  },
  {
   "cell_type": "markdown",
   "id": "3d7ad1c8",
   "metadata": {},
   "source": [
    "#### Realizando o treinamento."
   ]
  },
  {
   "cell_type": "code",
   "execution_count": 57,
   "id": "edcca31f",
   "metadata": {
    "scrolled": true
   },
   "outputs": [],
   "source": [
    "dtree = dtree.fit(X_train,y_train)"
   ]
  },
  {
   "cell_type": "markdown",
   "id": "d3ac4673",
   "metadata": {},
   "source": [
    "#### Calculando as predições."
   ]
  },
  {
   "cell_type": "code",
   "execution_count": 58,
   "id": "9197176d",
   "metadata": {},
   "outputs": [],
   "source": [
    "y_predict = dtree.predict(X_test)"
   ]
  },
  {
   "cell_type": "markdown",
   "id": "56a32296",
   "metadata": {},
   "source": [
    "#### Avaliando o resultado."
   ]
  },
  {
   "cell_type": "code",
   "execution_count": 59,
   "id": "bf8ad9d3",
   "metadata": {},
   "outputs": [
    {
     "name": "stdout",
     "output_type": "stream",
     "text": [
      "Accuracy = 0.75\n"
     ]
    }
   ],
   "source": [
    "accuracy_result(y_test, y_predict)"
   ]
  },
  {
   "cell_type": "code",
   "execution_count": 60,
   "id": "93b86d22",
   "metadata": {},
   "outputs": [
    {
     "name": "stdout",
     "output_type": "stream",
     "text": [
      "\n",
      "Decision Tree AUC = 0.6663633957520014\n",
      "\n",
      "              precision    recall  f1-score   support\n",
      "\n",
      "           0       0.84      0.82      0.83      2286\n",
      "           1       0.47      0.51      0.49       714\n",
      "\n",
      "    accuracy                           0.75      3000\n",
      "   macro avg       0.66      0.67      0.66      3000\n",
      "weighted avg       0.75      0.75      0.75      3000\n",
      "\n"
     ]
    }
   ],
   "source": [
    "roc_classification_report_results(\"Decision Tree\", y_test, y_predict)"
   ]
  },
  {
   "cell_type": "markdown",
   "id": "cd27a5ab",
   "metadata": {},
   "source": [
    "### Modelo de Arvore Aleatória (Random Forest)"
   ]
  },
  {
   "cell_type": "markdown",
   "id": "9b42b9d5",
   "metadata": {},
   "source": [
    "#### Instânciando o algoritmo."
   ]
  },
  {
   "cell_type": "code",
   "execution_count": 61,
   "id": "6dab769b",
   "metadata": {},
   "outputs": [],
   "source": [
    "from sklearn.ensemble import RandomForestClassifier"
   ]
  },
  {
   "cell_type": "code",
   "execution_count": 62,
   "id": "3e0c74f5",
   "metadata": {},
   "outputs": [],
   "source": [
    "rf = RandomForestClassifier()"
   ]
  },
  {
   "cell_type": "markdown",
   "id": "193d0577",
   "metadata": {},
   "source": [
    "#### Realizando o treinamento."
   ]
  },
  {
   "cell_type": "code",
   "execution_count": 63,
   "id": "8469a48a",
   "metadata": {
    "scrolled": true
   },
   "outputs": [],
   "source": [
    "rf = rf.fit(X_train,y_train)"
   ]
  },
  {
   "cell_type": "markdown",
   "id": "3a77f475",
   "metadata": {},
   "source": [
    "#### Calculando as predições."
   ]
  },
  {
   "cell_type": "code",
   "execution_count": 64,
   "id": "58e16f6c",
   "metadata": {},
   "outputs": [],
   "source": [
    "y_predict = rf.predict(X_test)"
   ]
  },
  {
   "cell_type": "markdown",
   "id": "5b56117a",
   "metadata": {},
   "source": [
    "#### Avaliando o resultado."
   ]
  },
  {
   "cell_type": "code",
   "execution_count": 65,
   "id": "ee9583e8",
   "metadata": {},
   "outputs": [
    {
     "name": "stdout",
     "output_type": "stream",
     "text": [
      "Accuracy = 0.83\n"
     ]
    }
   ],
   "source": [
    "accuracy_result(y_test, y_predict)"
   ]
  },
  {
   "cell_type": "code",
   "execution_count": 66,
   "id": "8853f34b",
   "metadata": {},
   "outputs": [
    {
     "name": "stdout",
     "output_type": "stream",
     "text": [
      "\n",
      "Random Forest AUC = 0.7249847445539895\n",
      "\n",
      "              precision    recall  f1-score   support\n",
      "\n",
      "           0       0.86      0.92      0.89      2286\n",
      "           1       0.69      0.53      0.59       714\n",
      "\n",
      "    accuracy                           0.83      3000\n",
      "   macro avg       0.77      0.72      0.74      3000\n",
      "weighted avg       0.82      0.83      0.82      3000\n",
      "\n"
     ]
    }
   ],
   "source": [
    "roc_classification_report_results(\"Random Forest\", y_test, y_predict)"
   ]
  },
  {
   "cell_type": "markdown",
   "id": "69e52b1b",
   "metadata": {},
   "source": [
    "### Pycaret"
   ]
  },
  {
   "cell_type": "code",
   "execution_count": 67,
   "id": "85d2e73d",
   "metadata": {
    "collapsed": true,
    "jupyter": {
     "outputs_hidden": true
    },
    "tags": []
   },
   "outputs": [
    {
     "name": "stdout",
     "output_type": "stream",
     "text": [
      "Note: you may need to restart the kernel to use updated packages.\n"
     ]
    },
    {
     "name": "stderr",
     "output_type": "stream",
     "text": [
      "'C:\\Program' n�o � reconhecido como um comando interno\n",
      "ou externo, um programa oper�vel ou um arquivo em lotes.\n"
     ]
    }
   ],
   "source": [
    "pip install pycaret"
   ]
  },
  {
   "cell_type": "markdown",
   "id": "421de2bf",
   "metadata": {},
   "source": [
    "#### Importando os métodos."
   ]
  },
  {
   "cell_type": "code",
   "execution_count": 1,
   "id": "0552d213",
   "metadata": {},
   "outputs": [
    {
     "ename": "ModuleNotFoundError",
     "evalue": "No module named 'pycaret'",
     "output_type": "error",
     "traceback": [
      "\u001b[1;31m---------------------------------------------------------------------------\u001b[0m",
      "\u001b[1;31mModuleNotFoundError\u001b[0m                       Traceback (most recent call last)",
      "\u001b[1;32m<ipython-input-1-a8cb12878b37>\u001b[0m in \u001b[0;36m<module>\u001b[1;34m\u001b[0m\n\u001b[1;32m----> 1\u001b[1;33m \u001b[1;32mfrom\u001b[0m \u001b[0mpycaret\u001b[0m\u001b[1;33m.\u001b[0m\u001b[0mclassification\u001b[0m \u001b[1;32mimport\u001b[0m \u001b[1;33m*\u001b[0m\u001b[1;33m\u001b[0m\u001b[1;33m\u001b[0m\u001b[0m\n\u001b[0m",
      "\u001b[1;31mModuleNotFoundError\u001b[0m: No module named 'pycaret'"
     ]
    }
   ],
   "source": [
    "from pycaret.classification import *"
   ]
  },
  {
   "cell_type": "markdown",
   "id": "2fa945c2",
   "metadata": {},
   "source": [
    "#### Definindo o Setup."
   ]
  },
  {
   "cell_type": "code",
   "execution_count": 3,
   "id": "5de9ab9b",
   "metadata": {
    "scrolled": true,
    "tags": []
   },
   "outputs": [
    {
     "ename": "NameError",
     "evalue": "name 'setup' is not defined",
     "output_type": "error",
     "traceback": [
      "\u001b[1;31m---------------------------------------------------------------------------\u001b[0m",
      "\u001b[1;31mNameError\u001b[0m                                 Traceback (most recent call last)",
      "\u001b[1;32m<ipython-input-3-9450c77427e9>\u001b[0m in \u001b[0;36m<module>\u001b[1;34m\u001b[0m\n\u001b[1;32m----> 1\u001b[1;33m s = setup( df[[\"satisfaction\",\"evaluation\",\"averageMonthlyHours\",\"yearsAtCompany\",\"turnover\"]]\n\u001b[0m\u001b[0;32m      2\u001b[0m           \u001b[1;33m,\u001b[0m\u001b[0mtarget\u001b[0m \u001b[1;33m=\u001b[0m \u001b[1;34m\"turnover\"\u001b[0m\u001b[1;33m\u001b[0m\u001b[1;33m\u001b[0m\u001b[0m\n\u001b[0;32m      3\u001b[0m           \u001b[1;33m,\u001b[0m\u001b[0mnumeric_features\u001b[0m \u001b[1;33m=\u001b[0m \u001b[1;33m[\u001b[0m\u001b[1;34m\"yearsAtCompany\"\u001b[0m\u001b[1;33m]\u001b[0m\u001b[1;33m\u001b[0m\u001b[1;33m\u001b[0m\u001b[0m\n\u001b[0;32m      4\u001b[0m           \u001b[1;33m,\u001b[0m\u001b[0mnormalize\u001b[0m \u001b[1;33m=\u001b[0m \u001b[1;32mTrue\u001b[0m\u001b[1;33m\u001b[0m\u001b[1;33m\u001b[0m\u001b[0m\n\u001b[0;32m      5\u001b[0m           \u001b[1;33m,\u001b[0m\u001b[0mnormalize_method\u001b[0m \u001b[1;33m=\u001b[0m \u001b[1;34m\"minmax\"\u001b[0m\u001b[1;33m\u001b[0m\u001b[1;33m\u001b[0m\u001b[0m\n",
      "\u001b[1;31mNameError\u001b[0m: name 'setup' is not defined"
     ]
    }
   ],
   "source": [
    "s = setup( df[[\"satisfaction\",\"evaluation\",\"averageMonthlyHours\",\"yearsAtCompany\",\"turnover\"]]\n",
    "          ,target = \"turnover\"\n",
    "          ,numeric_features = [\"yearsAtCompany\"]\n",
    "          ,normalize = True\n",
    "          ,normalize_method = \"minmax\"\n",
    "          ,data_split_stratify = True\n",
    "          ,fix_imbalance = True,\n",
    "         )"
   ]
  },
  {
   "cell_type": "markdown",
   "id": "6612ce69",
   "metadata": {
    "tags": []
   },
   "source": [
    "#### Comparando diferentes modelos."
   ]
  },
  {
   "cell_type": "code",
   "execution_count": 133,
   "id": "02172f9a",
   "metadata": {},
   "outputs": [
    {
     "data": {
      "text/html": [
       "<style  type=\"text/css\" >\n",
       "    #T_0a81d_ th {\n",
       "          text-align: left;\n",
       "    }#T_0a81d_row0_col0,#T_0a81d_row0_col1,#T_0a81d_row0_col3,#T_0a81d_row0_col4,#T_0a81d_row0_col5,#T_0a81d_row0_col6,#T_0a81d_row0_col7,#T_0a81d_row1_col0,#T_0a81d_row1_col1,#T_0a81d_row1_col2,#T_0a81d_row1_col3,#T_0a81d_row1_col4,#T_0a81d_row1_col5,#T_0a81d_row1_col6,#T_0a81d_row1_col7,#T_0a81d_row2_col0,#T_0a81d_row2_col2,#T_0a81d_row2_col3,#T_0a81d_row3_col0,#T_0a81d_row3_col1,#T_0a81d_row3_col2,#T_0a81d_row3_col3,#T_0a81d_row3_col4,#T_0a81d_row3_col5,#T_0a81d_row3_col6,#T_0a81d_row3_col7,#T_0a81d_row4_col0,#T_0a81d_row4_col1,#T_0a81d_row4_col2,#T_0a81d_row4_col3,#T_0a81d_row4_col4,#T_0a81d_row4_col5,#T_0a81d_row4_col6,#T_0a81d_row4_col7,#T_0a81d_row5_col0,#T_0a81d_row5_col1,#T_0a81d_row5_col2,#T_0a81d_row5_col4,#T_0a81d_row5_col5,#T_0a81d_row5_col6,#T_0a81d_row5_col7,#T_0a81d_row6_col0,#T_0a81d_row6_col1,#T_0a81d_row6_col2,#T_0a81d_row6_col3,#T_0a81d_row6_col4,#T_0a81d_row6_col5,#T_0a81d_row6_col6,#T_0a81d_row6_col7,#T_0a81d_row7_col0,#T_0a81d_row7_col1,#T_0a81d_row7_col2,#T_0a81d_row7_col3,#T_0a81d_row7_col4,#T_0a81d_row7_col5,#T_0a81d_row7_col6,#T_0a81d_row7_col7,#T_0a81d_row8_col0,#T_0a81d_row8_col1,#T_0a81d_row8_col2,#T_0a81d_row8_col3,#T_0a81d_row8_col4,#T_0a81d_row8_col5,#T_0a81d_row8_col6,#T_0a81d_row8_col7,#T_0a81d_row9_col0,#T_0a81d_row9_col1,#T_0a81d_row9_col2,#T_0a81d_row9_col3,#T_0a81d_row9_col4,#T_0a81d_row9_col5,#T_0a81d_row9_col6,#T_0a81d_row9_col7,#T_0a81d_row10_col0,#T_0a81d_row10_col1,#T_0a81d_row10_col2,#T_0a81d_row10_col3,#T_0a81d_row10_col4,#T_0a81d_row10_col5,#T_0a81d_row10_col6,#T_0a81d_row10_col7,#T_0a81d_row11_col0,#T_0a81d_row11_col1,#T_0a81d_row11_col2,#T_0a81d_row11_col3,#T_0a81d_row11_col4,#T_0a81d_row11_col5,#T_0a81d_row11_col6,#T_0a81d_row11_col7,#T_0a81d_row12_col0,#T_0a81d_row12_col1,#T_0a81d_row12_col2,#T_0a81d_row12_col3,#T_0a81d_row12_col4,#T_0a81d_row12_col5,#T_0a81d_row12_col6,#T_0a81d_row12_col7,#T_0a81d_row13_col0,#T_0a81d_row13_col1,#T_0a81d_row13_col2,#T_0a81d_row13_col3,#T_0a81d_row13_col4,#T_0a81d_row13_col5,#T_0a81d_row13_col6,#T_0a81d_row13_col7{\n",
       "            text-align:  left;\n",
       "            text-align:  left;\n",
       "        }#T_0a81d_row0_col2,#T_0a81d_row2_col1,#T_0a81d_row2_col4,#T_0a81d_row2_col5,#T_0a81d_row2_col6,#T_0a81d_row2_col7,#T_0a81d_row5_col3{\n",
       "            text-align:  left;\n",
       "            text-align:  left;\n",
       "            background-color:  yellow;\n",
       "        }#T_0a81d_row0_col8,#T_0a81d_row1_col8,#T_0a81d_row2_col8,#T_0a81d_row3_col8,#T_0a81d_row4_col8,#T_0a81d_row5_col8,#T_0a81d_row6_col8,#T_0a81d_row7_col8,#T_0a81d_row8_col8,#T_0a81d_row9_col8,#T_0a81d_row10_col8,#T_0a81d_row11_col8,#T_0a81d_row12_col8{\n",
       "            text-align:  left;\n",
       "            text-align:  left;\n",
       "            background-color:  lightgrey;\n",
       "        }#T_0a81d_row13_col8{\n",
       "            text-align:  left;\n",
       "            text-align:  left;\n",
       "            background-color:  yellow;\n",
       "            background-color:  lightgrey;\n",
       "        }</style><table id=\"T_0a81d_\" ><thead>    <tr>        <th class=\"blank level0\" ></th>        <th class=\"col_heading level0 col0\" >Model</th>        <th class=\"col_heading level0 col1\" >Accuracy</th>        <th class=\"col_heading level0 col2\" >AUC</th>        <th class=\"col_heading level0 col3\" >Recall</th>        <th class=\"col_heading level0 col4\" >Prec.</th>        <th class=\"col_heading level0 col5\" >F1</th>        <th class=\"col_heading level0 col6\" >Kappa</th>        <th class=\"col_heading level0 col7\" >MCC</th>        <th class=\"col_heading level0 col8\" >TT (Sec)</th>    </tr></thead><tbody>\n",
       "                <tr>\n",
       "                        <th id=\"T_0a81d_level0_row0\" class=\"row_heading level0 row0\" >gbc</th>\n",
       "                        <td id=\"T_0a81d_row0_col0\" class=\"data row0 col0\" >Gradient Boosting Classifier</td>\n",
       "                        <td id=\"T_0a81d_row0_col1\" class=\"data row0 col1\" >0.8292</td>\n",
       "                        <td id=\"T_0a81d_row0_col2\" class=\"data row0 col2\" >0.8042</td>\n",
       "                        <td id=\"T_0a81d_row0_col3\" class=\"data row0 col3\" >0.6923</td>\n",
       "                        <td id=\"T_0a81d_row0_col4\" class=\"data row0 col4\" >0.6281</td>\n",
       "                        <td id=\"T_0a81d_row0_col5\" class=\"data row0 col5\" >0.6586</td>\n",
       "                        <td id=\"T_0a81d_row0_col6\" class=\"data row0 col6\" >0.5451</td>\n",
       "                        <td id=\"T_0a81d_row0_col7\" class=\"data row0 col7\" >0.5463</td>\n",
       "                        <td id=\"T_0a81d_row0_col8\" class=\"data row0 col8\" >0.8500</td>\n",
       "            </tr>\n",
       "            <tr>\n",
       "                        <th id=\"T_0a81d_level0_row1\" class=\"row_heading level0 row1\" >ada</th>\n",
       "                        <td id=\"T_0a81d_row1_col0\" class=\"data row1 col0\" >Ada Boost Classifier</td>\n",
       "                        <td id=\"T_0a81d_row1_col1\" class=\"data row1 col1\" >0.8052</td>\n",
       "                        <td id=\"T_0a81d_row1_col2\" class=\"data row1 col2\" >0.7987</td>\n",
       "                        <td id=\"T_0a81d_row1_col3\" class=\"data row1 col3\" >0.6983</td>\n",
       "                        <td id=\"T_0a81d_row1_col4\" class=\"data row1 col4\" >0.5749</td>\n",
       "                        <td id=\"T_0a81d_row1_col5\" class=\"data row1 col5\" >0.6305</td>\n",
       "                        <td id=\"T_0a81d_row1_col6\" class=\"data row1 col6\" >0.5000</td>\n",
       "                        <td id=\"T_0a81d_row1_col7\" class=\"data row1 col7\" >0.5044</td>\n",
       "                        <td id=\"T_0a81d_row1_col8\" class=\"data row1 col8\" >0.4080</td>\n",
       "            </tr>\n",
       "            <tr>\n",
       "                        <th id=\"T_0a81d_level0_row2\" class=\"row_heading level0 row2\" >lightgbm</th>\n",
       "                        <td id=\"T_0a81d_row2_col0\" class=\"data row2 col0\" >Light Gradient Boosting Machine</td>\n",
       "                        <td id=\"T_0a81d_row2_col1\" class=\"data row2 col1\" >0.8476</td>\n",
       "                        <td id=\"T_0a81d_row2_col2\" class=\"data row2 col2\" >0.7978</td>\n",
       "                        <td id=\"T_0a81d_row2_col3\" class=\"data row2 col3\" >0.6611</td>\n",
       "                        <td id=\"T_0a81d_row2_col4\" class=\"data row2 col4\" >0.6872</td>\n",
       "                        <td id=\"T_0a81d_row2_col5\" class=\"data row2 col5\" >0.6738</td>\n",
       "                        <td id=\"T_0a81d_row2_col6\" class=\"data row2 col6\" >0.5744</td>\n",
       "                        <td id=\"T_0a81d_row2_col7\" class=\"data row2 col7\" >0.5746</td>\n",
       "                        <td id=\"T_0a81d_row2_col8\" class=\"data row2 col8\" >1.4400</td>\n",
       "            </tr>\n",
       "            <tr>\n",
       "                        <th id=\"T_0a81d_level0_row3\" class=\"row_heading level0 row3\" >xgboost</th>\n",
       "                        <td id=\"T_0a81d_row3_col0\" class=\"data row3 col0\" >Extreme Gradient Boosting</td>\n",
       "                        <td id=\"T_0a81d_row3_col1\" class=\"data row3 col1\" >0.8390</td>\n",
       "                        <td id=\"T_0a81d_row3_col2\" class=\"data row3 col2\" >0.7919</td>\n",
       "                        <td id=\"T_0a81d_row3_col3\" class=\"data row3 col3\" >0.6171</td>\n",
       "                        <td id=\"T_0a81d_row3_col4\" class=\"data row3 col4\" >0.6780</td>\n",
       "                        <td id=\"T_0a81d_row3_col5\" class=\"data row3 col5\" >0.6460</td>\n",
       "                        <td id=\"T_0a81d_row3_col6\" class=\"data row3 col6\" >0.5421</td>\n",
       "                        <td id=\"T_0a81d_row3_col7\" class=\"data row3 col7\" >0.5432</td>\n",
       "                        <td id=\"T_0a81d_row3_col8\" class=\"data row3 col8\" >0.6220</td>\n",
       "            </tr>\n",
       "            <tr>\n",
       "                        <th id=\"T_0a81d_level0_row4\" class=\"row_heading level0 row4\" >rf</th>\n",
       "                        <td id=\"T_0a81d_row4_col0\" class=\"data row4 col0\" >Random Forest Classifier</td>\n",
       "                        <td id=\"T_0a81d_row4_col1\" class=\"data row4 col1\" >0.8137</td>\n",
       "                        <td id=\"T_0a81d_row4_col2\" class=\"data row4 col2\" >0.7780</td>\n",
       "                        <td id=\"T_0a81d_row4_col3\" class=\"data row4 col3\" >0.5642</td>\n",
       "                        <td id=\"T_0a81d_row4_col4\" class=\"data row4 col4\" >0.6198</td>\n",
       "                        <td id=\"T_0a81d_row4_col5\" class=\"data row4 col5\" >0.5905</td>\n",
       "                        <td id=\"T_0a81d_row4_col6\" class=\"data row4 col6\" >0.4703</td>\n",
       "                        <td id=\"T_0a81d_row4_col7\" class=\"data row4 col7\" >0.4713</td>\n",
       "                        <td id=\"T_0a81d_row4_col8\" class=\"data row4 col8\" >1.0540</td>\n",
       "            </tr>\n",
       "            <tr>\n",
       "                        <th id=\"T_0a81d_level0_row5\" class=\"row_heading level0 row5\" >qda</th>\n",
       "                        <td id=\"T_0a81d_row5_col0\" class=\"data row5 col0\" >Quadratic Discriminant Analysis</td>\n",
       "                        <td id=\"T_0a81d_row5_col1\" class=\"data row5 col1\" >0.7220</td>\n",
       "                        <td id=\"T_0a81d_row5_col2\" class=\"data row5 col2\" >0.7578</td>\n",
       "                        <td id=\"T_0a81d_row5_col3\" class=\"data row5 col3\" >0.7535</td>\n",
       "                        <td id=\"T_0a81d_row5_col4\" class=\"data row5 col4\" >0.4499</td>\n",
       "                        <td id=\"T_0a81d_row5_col5\" class=\"data row5 col5\" >0.5634</td>\n",
       "                        <td id=\"T_0a81d_row5_col6\" class=\"data row5 col6\" >0.3780</td>\n",
       "                        <td id=\"T_0a81d_row5_col7\" class=\"data row5 col7\" >0.4051</td>\n",
       "                        <td id=\"T_0a81d_row5_col8\" class=\"data row5 col8\" >0.0560</td>\n",
       "            </tr>\n",
       "            <tr>\n",
       "                        <th id=\"T_0a81d_level0_row6\" class=\"row_heading level0 row6\" >knn</th>\n",
       "                        <td id=\"T_0a81d_row6_col0\" class=\"data row6 col0\" >K Neighbors Classifier</td>\n",
       "                        <td id=\"T_0a81d_row6_col1\" class=\"data row6 col1\" >0.7468</td>\n",
       "                        <td id=\"T_0a81d_row6_col2\" class=\"data row6 col2\" >0.7556</td>\n",
       "                        <td id=\"T_0a81d_row6_col3\" class=\"data row6 col3\" >0.6807</td>\n",
       "                        <td id=\"T_0a81d_row6_col4\" class=\"data row6 col4\" >0.4781</td>\n",
       "                        <td id=\"T_0a81d_row6_col5\" class=\"data row6 col5\" >0.5615</td>\n",
       "                        <td id=\"T_0a81d_row6_col6\" class=\"data row6 col6\" >0.3912</td>\n",
       "                        <td id=\"T_0a81d_row6_col7\" class=\"data row6 col7\" >0.4033</td>\n",
       "                        <td id=\"T_0a81d_row6_col8\" class=\"data row6 col8\" >0.1720</td>\n",
       "            </tr>\n",
       "            <tr>\n",
       "                        <th id=\"T_0a81d_level0_row7\" class=\"row_heading level0 row7\" >et</th>\n",
       "                        <td id=\"T_0a81d_row7_col0\" class=\"data row7 col0\" >Extra Trees Classifier</td>\n",
       "                        <td id=\"T_0a81d_row7_col1\" class=\"data row7 col1\" >0.8062</td>\n",
       "                        <td id=\"T_0a81d_row7_col2\" class=\"data row7 col2\" >0.7463</td>\n",
       "                        <td id=\"T_0a81d_row7_col3\" class=\"data row7 col3\" >0.5346</td>\n",
       "                        <td id=\"T_0a81d_row7_col4\" class=\"data row7 col4\" >0.6057</td>\n",
       "                        <td id=\"T_0a81d_row7_col5\" class=\"data row7 col5\" >0.5677</td>\n",
       "                        <td id=\"T_0a81d_row7_col6\" class=\"data row7 col6\" >0.4434</td>\n",
       "                        <td id=\"T_0a81d_row7_col7\" class=\"data row7 col7\" >0.4450</td>\n",
       "                        <td id=\"T_0a81d_row7_col8\" class=\"data row7 col8\" >0.6560</td>\n",
       "            </tr>\n",
       "            <tr>\n",
       "                        <th id=\"T_0a81d_level0_row8\" class=\"row_heading level0 row8\" >nb</th>\n",
       "                        <td id=\"T_0a81d_row8_col0\" class=\"data row8 col0\" >Naive Bayes</td>\n",
       "                        <td id=\"T_0a81d_row8_col1\" class=\"data row8 col1\" >0.7103</td>\n",
       "                        <td id=\"T_0a81d_row8_col2\" class=\"data row8 col2\" >0.7119</td>\n",
       "                        <td id=\"T_0a81d_row8_col3\" class=\"data row8 col3\" >0.5886</td>\n",
       "                        <td id=\"T_0a81d_row8_col4\" class=\"data row8 col4\" >0.4220</td>\n",
       "                        <td id=\"T_0a81d_row8_col5\" class=\"data row8 col5\" >0.4915</td>\n",
       "                        <td id=\"T_0a81d_row8_col6\" class=\"data row8 col6\" >0.2966</td>\n",
       "                        <td id=\"T_0a81d_row8_col7\" class=\"data row8 col7\" >0.3047</td>\n",
       "                        <td id=\"T_0a81d_row8_col8\" class=\"data row8 col8\" >0.0420</td>\n",
       "            </tr>\n",
       "            <tr>\n",
       "                        <th id=\"T_0a81d_level0_row9\" class=\"row_heading level0 row9\" >lr</th>\n",
       "                        <td id=\"T_0a81d_row9_col0\" class=\"data row9 col0\" >Logistic Regression</td>\n",
       "                        <td id=\"T_0a81d_row9_col1\" class=\"data row9 col1\" >0.6778</td>\n",
       "                        <td id=\"T_0a81d_row9_col2\" class=\"data row9 col2\" >0.6937</td>\n",
       "                        <td id=\"T_0a81d_row9_col3\" class=\"data row9 col3\" >0.6279</td>\n",
       "                        <td id=\"T_0a81d_row9_col4\" class=\"data row9 col4\" >0.3900</td>\n",
       "                        <td id=\"T_0a81d_row9_col5\" class=\"data row9 col5\" >0.4811</td>\n",
       "                        <td id=\"T_0a81d_row9_col6\" class=\"data row9 col6\" >0.2655</td>\n",
       "                        <td id=\"T_0a81d_row9_col7\" class=\"data row9 col7\" >0.2815</td>\n",
       "                        <td id=\"T_0a81d_row9_col8\" class=\"data row9 col8\" >1.3940</td>\n",
       "            </tr>\n",
       "            <tr>\n",
       "                        <th id=\"T_0a81d_level0_row10\" class=\"row_heading level0 row10\" >lda</th>\n",
       "                        <td id=\"T_0a81d_row10_col0\" class=\"data row10 col0\" >Linear Discriminant Analysis</td>\n",
       "                        <td id=\"T_0a81d_row10_col1\" class=\"data row10 col1\" >0.6807</td>\n",
       "                        <td id=\"T_0a81d_row10_col2\" class=\"data row10 col2\" >0.6928</td>\n",
       "                        <td id=\"T_0a81d_row10_col3\" class=\"data row10 col3\" >0.6235</td>\n",
       "                        <td id=\"T_0a81d_row10_col4\" class=\"data row10 col4\" >0.3923</td>\n",
       "                        <td id=\"T_0a81d_row10_col5\" class=\"data row10 col5\" >0.4815</td>\n",
       "                        <td id=\"T_0a81d_row10_col6\" class=\"data row10 col6\" >0.2676</td>\n",
       "                        <td id=\"T_0a81d_row10_col7\" class=\"data row10 col7\" >0.2828</td>\n",
       "                        <td id=\"T_0a81d_row10_col8\" class=\"data row10 col8\" >0.0400</td>\n",
       "            </tr>\n",
       "            <tr>\n",
       "                        <th id=\"T_0a81d_level0_row11\" class=\"row_heading level0 row11\" >dt</th>\n",
       "                        <td id=\"T_0a81d_row11_col0\" class=\"data row11 col0\" >Decision Tree Classifier</td>\n",
       "                        <td id=\"T_0a81d_row11_col1\" class=\"data row11 col1\" >0.7301</td>\n",
       "                        <td id=\"T_0a81d_row11_col2\" class=\"data row11 col2\" >0.6562</td>\n",
       "                        <td id=\"T_0a81d_row11_col3\" class=\"data row11 col3\" >0.4958</td>\n",
       "                        <td id=\"T_0a81d_row11_col4\" class=\"data row11 col4\" >0.4407</td>\n",
       "                        <td id=\"T_0a81d_row11_col5\" class=\"data row11 col5\" >0.4666</td>\n",
       "                        <td id=\"T_0a81d_row11_col6\" class=\"data row11 col6\" >0.2868</td>\n",
       "                        <td id=\"T_0a81d_row11_col7\" class=\"data row11 col7\" >0.2877</td>\n",
       "                        <td id=\"T_0a81d_row11_col8\" class=\"data row11 col8\" >0.0700</td>\n",
       "            </tr>\n",
       "            <tr>\n",
       "                        <th id=\"T_0a81d_level0_row12\" class=\"row_heading level0 row12\" >svm</th>\n",
       "                        <td id=\"T_0a81d_row12_col0\" class=\"data row12 col0\" >SVM - Linear Kernel</td>\n",
       "                        <td id=\"T_0a81d_row12_col1\" class=\"data row12 col1\" >0.6321</td>\n",
       "                        <td id=\"T_0a81d_row12_col2\" class=\"data row12 col2\" >0.0000</td>\n",
       "                        <td id=\"T_0a81d_row12_col3\" class=\"data row12 col3\" >0.6575</td>\n",
       "                        <td id=\"T_0a81d_row12_col4\" class=\"data row12 col4\" >0.3549</td>\n",
       "                        <td id=\"T_0a81d_row12_col5\" class=\"data row12 col5\" >0.4596</td>\n",
       "                        <td id=\"T_0a81d_row12_col6\" class=\"data row12 col6\" >0.2180</td>\n",
       "                        <td id=\"T_0a81d_row12_col7\" class=\"data row12 col7\" >0.2429</td>\n",
       "                        <td id=\"T_0a81d_row12_col8\" class=\"data row12 col8\" >0.0720</td>\n",
       "            </tr>\n",
       "            <tr>\n",
       "                        <th id=\"T_0a81d_level0_row13\" class=\"row_heading level0 row13\" >ridge</th>\n",
       "                        <td id=\"T_0a81d_row13_col0\" class=\"data row13 col0\" >Ridge Classifier</td>\n",
       "                        <td id=\"T_0a81d_row13_col1\" class=\"data row13 col1\" >0.6808</td>\n",
       "                        <td id=\"T_0a81d_row13_col2\" class=\"data row13 col2\" >0.0000</td>\n",
       "                        <td id=\"T_0a81d_row13_col3\" class=\"data row13 col3\" >0.6235</td>\n",
       "                        <td id=\"T_0a81d_row13_col4\" class=\"data row13 col4\" >0.3924</td>\n",
       "                        <td id=\"T_0a81d_row13_col5\" class=\"data row13 col5\" >0.4816</td>\n",
       "                        <td id=\"T_0a81d_row13_col6\" class=\"data row13 col6\" >0.2678</td>\n",
       "                        <td id=\"T_0a81d_row13_col7\" class=\"data row13 col7\" >0.2829</td>\n",
       "                        <td id=\"T_0a81d_row13_col8\" class=\"data row13 col8\" >0.0300</td>\n",
       "            </tr>\n",
       "    </tbody></table>"
      ],
      "text/plain": [
       "<pandas.io.formats.style.Styler at 0x7f8c1d8d9160>"
      ]
     },
     "metadata": {},
     "output_type": "display_data"
    }
   ],
   "source": [
    "best = compare_models(fold = 5,sort = 'AUC')"
   ]
  },
  {
   "cell_type": "markdown",
   "id": "d6af08bc",
   "metadata": {},
   "source": [
    "#### Criando o modelo."
   ]
  },
  {
   "cell_type": "code",
   "execution_count": 134,
   "id": "edcf1615",
   "metadata": {},
   "outputs": [
    {
     "data": {
      "text/html": [
       "<style  type=\"text/css\" >\n",
       "#T_a5fee_row5_col0,#T_a5fee_row5_col1,#T_a5fee_row5_col2,#T_a5fee_row5_col3,#T_a5fee_row5_col4,#T_a5fee_row5_col5,#T_a5fee_row5_col6{\n",
       "            background:  yellow;\n",
       "        }</style><table id=\"T_a5fee_\" ><thead>    <tr>        <th class=\"blank level0\" ></th>        <th class=\"col_heading level0 col0\" >Accuracy</th>        <th class=\"col_heading level0 col1\" >AUC</th>        <th class=\"col_heading level0 col2\" >Recall</th>        <th class=\"col_heading level0 col3\" >Prec.</th>        <th class=\"col_heading level0 col4\" >F1</th>        <th class=\"col_heading level0 col5\" >Kappa</th>        <th class=\"col_heading level0 col6\" >MCC</th>    </tr></thead><tbody>\n",
       "                <tr>\n",
       "                        <th id=\"T_a5fee_level0_row0\" class=\"row_heading level0 row0\" >0</th>\n",
       "                        <td id=\"T_a5fee_row0_col0\" class=\"data row0 col0\" >0.8362</td>\n",
       "                        <td id=\"T_a5fee_row0_col1\" class=\"data row0 col1\" >0.8085</td>\n",
       "                        <td id=\"T_a5fee_row0_col2\" class=\"data row0 col2\" >0.7180</td>\n",
       "                        <td id=\"T_a5fee_row0_col3\" class=\"data row0 col3\" >0.6388</td>\n",
       "                        <td id=\"T_a5fee_row0_col4\" class=\"data row0 col4\" >0.6761</td>\n",
       "                        <td id=\"T_a5fee_row0_col5\" class=\"data row0 col5\" >0.5670</td>\n",
       "                        <td id=\"T_a5fee_row0_col6\" class=\"data row0 col6\" >0.5687</td>\n",
       "            </tr>\n",
       "            <tr>\n",
       "                        <th id=\"T_a5fee_level0_row1\" class=\"row_heading level0 row1\" >1</th>\n",
       "                        <td id=\"T_a5fee_row1_col0\" class=\"data row1 col0\" >0.8257</td>\n",
       "                        <td id=\"T_a5fee_row1_col1\" class=\"data row1 col1\" >0.7917</td>\n",
       "                        <td id=\"T_a5fee_row1_col2\" class=\"data row1 col2\" >0.6660</td>\n",
       "                        <td id=\"T_a5fee_row1_col3\" class=\"data row1 col3\" >0.6259</td>\n",
       "                        <td id=\"T_a5fee_row1_col4\" class=\"data row1 col4\" >0.6453</td>\n",
       "                        <td id=\"T_a5fee_row1_col5\" class=\"data row1 col5\" >0.5300</td>\n",
       "                        <td id=\"T_a5fee_row1_col6\" class=\"data row1 col6\" >0.5304</td>\n",
       "            </tr>\n",
       "            <tr>\n",
       "                        <th id=\"T_a5fee_level0_row2\" class=\"row_heading level0 row2\" >2</th>\n",
       "                        <td id=\"T_a5fee_row2_col0\" class=\"data row2 col0\" >0.8257</td>\n",
       "                        <td id=\"T_a5fee_row2_col1\" class=\"data row2 col1\" >0.7983</td>\n",
       "                        <td id=\"T_a5fee_row2_col2\" class=\"data row2 col2\" >0.6860</td>\n",
       "                        <td id=\"T_a5fee_row2_col3\" class=\"data row2 col3\" >0.6214</td>\n",
       "                        <td id=\"T_a5fee_row2_col4\" class=\"data row2 col4\" >0.6521</td>\n",
       "                        <td id=\"T_a5fee_row2_col5\" class=\"data row2 col5\" >0.5362</td>\n",
       "                        <td id=\"T_a5fee_row2_col6\" class=\"data row2 col6\" >0.5374</td>\n",
       "            </tr>\n",
       "            <tr>\n",
       "                        <th id=\"T_a5fee_level0_row3\" class=\"row_heading level0 row3\" >3</th>\n",
       "                        <td id=\"T_a5fee_row3_col0\" class=\"data row3 col0\" >0.8304</td>\n",
       "                        <td id=\"T_a5fee_row3_col1\" class=\"data row3 col1\" >0.8100</td>\n",
       "                        <td id=\"T_a5fee_row3_col2\" class=\"data row3 col2\" >0.7034</td>\n",
       "                        <td id=\"T_a5fee_row3_col3\" class=\"data row3 col3\" >0.6279</td>\n",
       "                        <td id=\"T_a5fee_row3_col4\" class=\"data row3 col4\" >0.6635</td>\n",
       "                        <td id=\"T_a5fee_row3_col5\" class=\"data row3 col5\" >0.5506</td>\n",
       "                        <td id=\"T_a5fee_row3_col6\" class=\"data row3 col6\" >0.5522</td>\n",
       "            </tr>\n",
       "            <tr>\n",
       "                        <th id=\"T_a5fee_level0_row4\" class=\"row_heading level0 row4\" >4</th>\n",
       "                        <td id=\"T_a5fee_row4_col0\" class=\"data row4 col0\" >0.8280</td>\n",
       "                        <td id=\"T_a5fee_row4_col1\" class=\"data row4 col1\" >0.8126</td>\n",
       "                        <td id=\"T_a5fee_row4_col2\" class=\"data row4 col2\" >0.6880</td>\n",
       "                        <td id=\"T_a5fee_row4_col3\" class=\"data row4 col3\" >0.6266</td>\n",
       "                        <td id=\"T_a5fee_row4_col4\" class=\"data row4 col4\" >0.6559</td>\n",
       "                        <td id=\"T_a5fee_row4_col5\" class=\"data row4 col5\" >0.5416</td>\n",
       "                        <td id=\"T_a5fee_row4_col6\" class=\"data row4 col6\" >0.5426</td>\n",
       "            </tr>\n",
       "            <tr>\n",
       "                        <th id=\"T_a5fee_level0_row5\" class=\"row_heading level0 row5\" >Mean</th>\n",
       "                        <td id=\"T_a5fee_row5_col0\" class=\"data row5 col0\" >0.8292</td>\n",
       "                        <td id=\"T_a5fee_row5_col1\" class=\"data row5 col1\" >0.8042</td>\n",
       "                        <td id=\"T_a5fee_row5_col2\" class=\"data row5 col2\" >0.6923</td>\n",
       "                        <td id=\"T_a5fee_row5_col3\" class=\"data row5 col3\" >0.6281</td>\n",
       "                        <td id=\"T_a5fee_row5_col4\" class=\"data row5 col4\" >0.6586</td>\n",
       "                        <td id=\"T_a5fee_row5_col5\" class=\"data row5 col5\" >0.5451</td>\n",
       "                        <td id=\"T_a5fee_row5_col6\" class=\"data row5 col6\" >0.5463</td>\n",
       "            </tr>\n",
       "            <tr>\n",
       "                        <th id=\"T_a5fee_level0_row6\" class=\"row_heading level0 row6\" >SD</th>\n",
       "                        <td id=\"T_a5fee_row6_col0\" class=\"data row6 col0\" >0.0039</td>\n",
       "                        <td id=\"T_a5fee_row6_col1\" class=\"data row6 col1\" >0.0079</td>\n",
       "                        <td id=\"T_a5fee_row6_col2\" class=\"data row6 col2\" >0.0175</td>\n",
       "                        <td id=\"T_a5fee_row6_col3\" class=\"data row6 col3\" >0.0058</td>\n",
       "                        <td id=\"T_a5fee_row6_col4\" class=\"data row6 col4\" >0.0105</td>\n",
       "                        <td id=\"T_a5fee_row6_col5\" class=\"data row6 col5\" >0.0129</td>\n",
       "                        <td id=\"T_a5fee_row6_col6\" class=\"data row6 col6\" >0.0133</td>\n",
       "            </tr>\n",
       "    </tbody></table>"
      ],
      "text/plain": [
       "<pandas.io.formats.style.Styler at 0x7f8c1d963820>"
      ]
     },
     "metadata": {},
     "output_type": "display_data"
    }
   ],
   "source": [
    "gbc = create_model('gbc', fold = 5)"
   ]
  },
  {
   "cell_type": "markdown",
   "id": "22ab7ba2",
   "metadata": {},
   "source": [
    "#### Realizando o tunning do modelo."
   ]
  },
  {
   "cell_type": "code",
   "execution_count": 135,
   "id": "3f02f806",
   "metadata": {
    "scrolled": true,
    "tags": []
   },
   "outputs": [
    {
     "data": {
      "text/html": [
       "<style  type=\"text/css\" >\n",
       "#T_9be88_row5_col0,#T_9be88_row5_col1,#T_9be88_row5_col2,#T_9be88_row5_col3,#T_9be88_row5_col4,#T_9be88_row5_col5,#T_9be88_row5_col6{\n",
       "            background:  yellow;\n",
       "        }</style><table id=\"T_9be88_\" ><thead>    <tr>        <th class=\"blank level0\" ></th>        <th class=\"col_heading level0 col0\" >Accuracy</th>        <th class=\"col_heading level0 col1\" >AUC</th>        <th class=\"col_heading level0 col2\" >Recall</th>        <th class=\"col_heading level0 col3\" >Prec.</th>        <th class=\"col_heading level0 col4\" >F1</th>        <th class=\"col_heading level0 col5\" >Kappa</th>        <th class=\"col_heading level0 col6\" >MCC</th>    </tr></thead><tbody>\n",
       "                <tr>\n",
       "                        <th id=\"T_9be88_level0_row0\" class=\"row_heading level0 row0\" >0</th>\n",
       "                        <td id=\"T_9be88_row0_col0\" class=\"data row0 col0\" >0.8467</td>\n",
       "                        <td id=\"T_9be88_row0_col1\" class=\"data row0 col1\" >0.8065</td>\n",
       "                        <td id=\"T_9be88_row0_col2\" class=\"data row0 col2\" >0.6700</td>\n",
       "                        <td id=\"T_9be88_row0_col3\" class=\"data row0 col3\" >0.6809</td>\n",
       "                        <td id=\"T_9be88_row0_col4\" class=\"data row0 col4\" >0.6754</td>\n",
       "                        <td id=\"T_9be88_row0_col5\" class=\"data row0 col5\" >0.5750</td>\n",
       "                        <td id=\"T_9be88_row0_col6\" class=\"data row0 col6\" >0.5751</td>\n",
       "            </tr>\n",
       "            <tr>\n",
       "                        <th id=\"T_9be88_level0_row1\" class=\"row_heading level0 row1\" >1</th>\n",
       "                        <td id=\"T_9be88_row1_col0\" class=\"data row1 col0\" >0.8390</td>\n",
       "                        <td id=\"T_9be88_row1_col1\" class=\"data row1 col1\" >0.7897</td>\n",
       "                        <td id=\"T_9be88_row1_col2\" class=\"data row1 col2\" >0.6480</td>\n",
       "                        <td id=\"T_9be88_row1_col3\" class=\"data row1 col3\" >0.6667</td>\n",
       "                        <td id=\"T_9be88_row1_col4\" class=\"data row1 col4\" >0.6572</td>\n",
       "                        <td id=\"T_9be88_row1_col5\" class=\"data row1 col5\" >0.5521</td>\n",
       "                        <td id=\"T_9be88_row1_col6\" class=\"data row1 col6\" >0.5522</td>\n",
       "            </tr>\n",
       "            <tr>\n",
       "                        <th id=\"T_9be88_level0_row2\" class=\"row_heading level0 row2\" >2</th>\n",
       "                        <td id=\"T_9be88_row2_col0\" class=\"data row2 col0\" >0.8414</td>\n",
       "                        <td id=\"T_9be88_row2_col1\" class=\"data row2 col1\" >0.7972</td>\n",
       "                        <td id=\"T_9be88_row2_col2\" class=\"data row2 col2\" >0.6260</td>\n",
       "                        <td id=\"T_9be88_row2_col3\" class=\"data row2 col3\" >0.6819</td>\n",
       "                        <td id=\"T_9be88_row2_col4\" class=\"data row2 col4\" >0.6528</td>\n",
       "                        <td id=\"T_9be88_row2_col5\" class=\"data row2 col5\" >0.5503</td>\n",
       "                        <td id=\"T_9be88_row2_col6\" class=\"data row2 col6\" >0.5511</td>\n",
       "            </tr>\n",
       "            <tr>\n",
       "                        <th id=\"T_9be88_level0_row3\" class=\"row_heading level0 row3\" >3</th>\n",
       "                        <td id=\"T_9be88_row3_col0\" class=\"data row3 col0\" >0.8447</td>\n",
       "                        <td id=\"T_9be88_row3_col1\" class=\"data row3 col1\" >0.8014</td>\n",
       "                        <td id=\"T_9be88_row3_col2\" class=\"data row3 col2\" >0.6794</td>\n",
       "                        <td id=\"T_9be88_row3_col3\" class=\"data row3 col3\" >0.6713</td>\n",
       "                        <td id=\"T_9be88_row3_col4\" class=\"data row3 col4\" >0.6753</td>\n",
       "                        <td id=\"T_9be88_row3_col5\" class=\"data row3 col5\" >0.5732</td>\n",
       "                        <td id=\"T_9be88_row3_col6\" class=\"data row3 col6\" >0.5733</td>\n",
       "            </tr>\n",
       "            <tr>\n",
       "                        <th id=\"T_9be88_level0_row4\" class=\"row_heading level0 row4\" >4</th>\n",
       "                        <td id=\"T_9be88_row4_col0\" class=\"data row4 col0\" >0.8418</td>\n",
       "                        <td id=\"T_9be88_row4_col1\" class=\"data row4 col1\" >0.8046</td>\n",
       "                        <td id=\"T_9be88_row4_col2\" class=\"data row4 col2\" >0.6640</td>\n",
       "                        <td id=\"T_9be88_row4_col3\" class=\"data row4 col3\" >0.6694</td>\n",
       "                        <td id=\"T_9be88_row4_col4\" class=\"data row4 col4\" >0.6667</td>\n",
       "                        <td id=\"T_9be88_row4_col5\" class=\"data row4 col5\" >0.5630</td>\n",
       "                        <td id=\"T_9be88_row4_col6\" class=\"data row4 col6\" >0.5630</td>\n",
       "            </tr>\n",
       "            <tr>\n",
       "                        <th id=\"T_9be88_level0_row5\" class=\"row_heading level0 row5\" >Mean</th>\n",
       "                        <td id=\"T_9be88_row5_col0\" class=\"data row5 col0\" >0.8427</td>\n",
       "                        <td id=\"T_9be88_row5_col1\" class=\"data row5 col1\" >0.7999</td>\n",
       "                        <td id=\"T_9be88_row5_col2\" class=\"data row5 col2\" >0.6575</td>\n",
       "                        <td id=\"T_9be88_row5_col3\" class=\"data row5 col3\" >0.6740</td>\n",
       "                        <td id=\"T_9be88_row5_col4\" class=\"data row5 col4\" >0.6655</td>\n",
       "                        <td id=\"T_9be88_row5_col5\" class=\"data row5 col5\" >0.5627</td>\n",
       "                        <td id=\"T_9be88_row5_col6\" class=\"data row5 col6\" >0.5629</td>\n",
       "            </tr>\n",
       "            <tr>\n",
       "                        <th id=\"T_9be88_level0_row6\" class=\"row_heading level0 row6\" >SD</th>\n",
       "                        <td id=\"T_9be88_row6_col0\" class=\"data row6 col0\" >0.0027</td>\n",
       "                        <td id=\"T_9be88_row6_col1\" class=\"data row6 col1\" >0.0060</td>\n",
       "                        <td id=\"T_9be88_row6_col2\" class=\"data row6 col2\" >0.0188</td>\n",
       "                        <td id=\"T_9be88_row6_col3\" class=\"data row6 col3\" >0.0062</td>\n",
       "                        <td id=\"T_9be88_row6_col4\" class=\"data row6 col4\" >0.0092</td>\n",
       "                        <td id=\"T_9be88_row6_col5\" class=\"data row6 col5\" >0.0103</td>\n",
       "                        <td id=\"T_9be88_row6_col6\" class=\"data row6 col6\" >0.0101</td>\n",
       "            </tr>\n",
       "    </tbody></table>"
      ],
      "text/plain": [
       "<pandas.io.formats.style.Styler at 0x7f8c351d4cd0>"
      ]
     },
     "metadata": {},
     "output_type": "display_data"
    }
   ],
   "source": [
    "tuned_gbc = tune_model(gbc\n",
    "                      ,fold = 5\n",
    "                      ,custom_grid = {\n",
    "                                      \"learning_rate\":[0.1,0.2,0.5]\n",
    "                                     ,\"n_estimators\":[100,500,1000]\n",
    "                                     ,\"min_samples_split\":[1,2,5,10]\n",
    "                                     ,\"max_depth\":[1,3,9]\n",
    "                                     }\n",
    "                      ,optimize = 'AUC')"
   ]
  },
  {
   "cell_type": "markdown",
   "id": "b498f3ab",
   "metadata": {},
   "source": [
    "#### Finalizando o modelo."
   ]
  },
  {
   "cell_type": "code",
   "execution_count": 136,
   "id": "3b110ac6",
   "metadata": {},
   "outputs": [],
   "source": [
    "final_model = finalize_model(gbc)"
   ]
  },
  {
   "cell_type": "code",
   "execution_count": 137,
   "id": "d0a246f8",
   "metadata": {},
   "outputs": [
    {
     "name": "stdout",
     "output_type": "stream",
     "text": [
      "Transformation Pipeline and Model Successfully Saved\n"
     ]
    },
    {
     "data": {
      "text/plain": [
       "(Pipeline(memory=None,\n",
       "          steps=[('dtypes',\n",
       "                  DataTypes_Auto_infer(categorical_features=[],\n",
       "                                       display_types=True, features_todrop=[],\n",
       "                                       id_columns=[],\n",
       "                                       ml_usecase='classification',\n",
       "                                       numerical_features=['yearsAtCompany'],\n",
       "                                       target='turnover', time_features=[])),\n",
       "                 ('imputer',\n",
       "                  Simple_Imputer(categorical_strategy='not_available',\n",
       "                                 fill_value_categorical=None,\n",
       "                                 fill_value_numerical=...\n",
       "                                             learning_rate=0.1, loss='deviance',\n",
       "                                             max_depth=3, max_features=None,\n",
       "                                             max_leaf_nodes=None,\n",
       "                                             min_impurity_decrease=0.0,\n",
       "                                             min_impurity_split=None,\n",
       "                                             min_samples_leaf=1,\n",
       "                                             min_samples_split=2,\n",
       "                                             min_weight_fraction_leaf=0.0,\n",
       "                                             n_estimators=100,\n",
       "                                             n_iter_no_change=None,\n",
       "                                             presort='deprecated',\n",
       "                                             random_state=4510, subsample=1.0,\n",
       "                                             tol=0.0001, validation_fraction=0.1,\n",
       "                                             verbose=0, warm_start=False)]],\n",
       "          verbose=False),\n",
       " 'model.pkl')"
      ]
     },
     "execution_count": 137,
     "metadata": {},
     "output_type": "execute_result"
    }
   ],
   "source": [
    "save_model(final_model,'model')"
   ]
  },
  {
   "cell_type": "markdown",
   "id": "a87ed577",
   "metadata": {},
   "source": [
    "#### Transferindo os arquivos para o Data Lake."
   ]
  },
  {
   "cell_type": "markdown",
   "id": "3e254c1c",
   "metadata": {},
   "source": [
    "#### Modelo de Classificação."
   ]
  },
  {
   "cell_type": "code",
   "execution_count": 138,
   "id": "b438b749",
   "metadata": {},
   "outputs": [
    {
     "data": {
      "text/plain": [
       "<minio.helpers.ObjectWriteResult at 0x7f8c3bb7e9a0>"
      ]
     },
     "execution_count": 138,
     "metadata": {},
     "output_type": "execute_result"
    }
   ],
   "source": [
    "client.fput_object(\n",
    "    \"curated\",\n",
    "    \"model.pkl\",\n",
    "    \"model.pkl\"\n",
    ")"
   ]
  },
  {
   "cell_type": "markdown",
   "id": "c8fa009d",
   "metadata": {},
   "source": [
    "#### Exportando o conjunto de dados para o disco."
   ]
  },
  {
   "cell_type": "code",
   "execution_count": 139,
   "id": "a65fc51b",
   "metadata": {
    "scrolled": true
   },
   "outputs": [],
   "source": [
    "df.to_csv(\"dataset.csv\",index=False)"
   ]
  },
  {
   "cell_type": "code",
   "execution_count": 140,
   "id": "bc43bf6c",
   "metadata": {},
   "outputs": [
    {
     "data": {
      "text/plain": [
       "<minio.helpers.ObjectWriteResult at 0x7f8c1ce1a1c0>"
      ]
     },
     "execution_count": 140,
     "metadata": {},
     "output_type": "execute_result"
    }
   ],
   "source": [
    "client.fput_object(\n",
    "    \"curated\",\n",
    "    \"dataset.csv\",\n",
    "    \"dataset.csv\"\n",
    ")"
   ]
  }
 ],
 "metadata": {
  "kernelspec": {
   "display_name": "Python 3",
   "language": "python",
   "name": "python3"
  },
  "language_info": {
   "codemirror_mode": {
    "name": "ipython",
    "version": 3
   },
   "file_extension": ".py",
   "mimetype": "text/x-python",
   "name": "python",
   "nbconvert_exporter": "python",
   "pygments_lexer": "ipython3",
   "version": "3.8.8"
  }
 },
 "nbformat": 4,
 "nbformat_minor": 5
}
