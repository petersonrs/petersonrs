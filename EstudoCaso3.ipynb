{
  "cells": [
    {
      "cell_type": "markdown",
      "metadata": {
        "id": "view-in-github",
        "colab_type": "text"
      },
      "source": [
        "<a href=\"https://colab.research.google.com/github/petersonrs/petersonrs/blob/main/EstudoCaso3.ipynb\" target=\"_parent\"><img src=\"https://colab.research.google.com/assets/colab-badge.svg\" alt=\"Open In Colab\"/></a>"
      ]
    },
    {
      "cell_type": "markdown",
      "metadata": {
        "id": "SXxLNmjeveLu"
      },
      "source": [
        "# <font color='blue'>Data Science Academy</font>\n",
        "# <font color='blue'>Processamento de Linguagem Natural com Transformers</font>\n",
        "\n",
        "## <font color='blue'>Estudo de Caso 3</font>\n",
        "## <font color='blue'>Construindo e Treinando Um Modelo de Linguagem Transformer a Partir do Zero em Português</font>"
      ]
    },
    {
      "cell_type": "markdown",
      "metadata": {
        "id": "2JRfRv9xveLy"
      },
      "source": [
        "![DSA](imagens/EC3.png)"
      ]
    },
    {
      "cell_type": "code",
      "execution_count": 1,
      "metadata": {
        "colab": {
          "base_uri": "https://localhost:8080/"
        },
        "id": "e-qNx1FHveLy",
        "outputId": "effd83fe-c487-4bed-d372-a8ba509986b6"
      },
      "outputs": [
        {
          "output_type": "stream",
          "name": "stdout",
          "text": [
            "Versão da Linguagem Python Usada Neste Jupyter Notebook: 3.10.12\n"
          ]
        }
      ],
      "source": [
        "# Versão da Linguagem Python\n",
        "from platform import python_version\n",
        "print('Versão da Linguagem Python Usada Neste Jupyter Notebook:', python_version())"
      ]
    },
    {
      "cell_type": "code",
      "execution_count": 2,
      "metadata": {
        "colab": {
          "base_uri": "https://localhost:8080/"
        },
        "id": "da0LL3jLveL0",
        "outputId": "648ce8de-65d9-47c6-a9d7-1bac4bc41a92"
      },
      "outputs": [
        {
          "output_type": "stream",
          "name": "stdout",
          "text": [
            "\u001b[2K     \u001b[90m━━━━━━━━━━━━━━━━━━━━━━━━━━━━━━━━━━━━━━━━\u001b[0m \u001b[32m1.6/1.6 MB\u001b[0m \u001b[31m7.2 MB/s\u001b[0m eta \u001b[36m0:00:00\u001b[0m\n",
            "\u001b[?25h"
          ]
        }
      ],
      "source": [
        "# Para atualizar um pacote, execute o comando abaixo no terminal ou prompt de comando:\n",
        "# pip install -U nome_pacote\n",
        "\n",
        "# Para instalar a versão exata de um pacote, execute o comando abaixo no terminal ou prompt de comando:\n",
        "# !pip install nome_pacote==versão_desejada\n",
        "\n",
        "# Depois de instalar ou atualizar o pacote, reinicie o jupyter notebook.\n",
        "\n",
        "# Instala o pacote watermark.\n",
        "# Esse pacote é usado para gravar as versões de outros pacotes usados neste jupyter notebook.\n",
        "!pip install -q -U watermark"
      ]
    },
    {
      "cell_type": "code",
      "execution_count": 3,
      "metadata": {
        "id": "qaOVfL34veL0"
      },
      "outputs": [],
      "source": [
        "import random\n",
        "random.seed(10)"
      ]
    },
    {
      "cell_type": "code",
      "execution_count": 4,
      "metadata": {
        "id": "XQhwlGcdpydo"
      },
      "outputs": [],
      "source": [
        "# Imports\n",
        "import re\n",
        "import math\n",
        "import torch\n",
        "import numpy as np\n",
        "import torch.nn as nn\n",
        "import torch.nn.functional as F\n",
        "import torch.optim as optim\n",
        "from random import *"
      ]
    },
    {
      "cell_type": "code",
      "execution_count": 5,
      "metadata": {
        "colab": {
          "base_uri": "https://localhost:8080/"
        },
        "id": "3nMwWP6jveL1",
        "outputId": "c774ac60-8aaf-48d2-cddc-015a588ca867"
      },
      "outputs": [
        {
          "output_type": "stream",
          "name": "stdout",
          "text": [
            "Author: Data Science Academy\n",
            "\n",
            "torch: 2.2.1+cu121\n",
            "numpy: 1.25.2\n",
            "re   : 2.2.1\n",
            "\n"
          ]
        }
      ],
      "source": [
        "# Versões dos pacotes usados neste jupyter notebook\n",
        "%reload_ext watermark\n",
        "%watermark -a \"Data Science Academy\" --iversions"
      ]
    },
    {
      "cell_type": "markdown",
      "metadata": {
        "id": "2GmeepRwveL1"
      },
      "source": [
        "## Carregando os Dados de Texto"
      ]
    },
    {
      "cell_type": "code",
      "execution_count": 8,
      "metadata": {
        "id": "OsodYWl5veL1"
      },
      "outputs": [],
      "source": [
        "# Carrega os dados de texto\n",
        "text = open('/content/drive/MyDrive/DSA/Formação Eng ML/Processamento de Linguagem Natural com Transformers/CAP06/EstudoCaso3/dados/frases.txt', 'r').read()"
      ]
    },
    {
      "cell_type": "code",
      "source": [
        "from google.colab import drive\n",
        "drive.mount('/content/drive')"
      ],
      "metadata": {
        "colab": {
          "base_uri": "https://localhost:8080/"
        },
        "id": "4USBJFnXvxAj",
        "outputId": "873f64b2-f003-4560-9c23-f3920d8658ce"
      },
      "execution_count": 7,
      "outputs": [
        {
          "output_type": "stream",
          "name": "stdout",
          "text": [
            "Mounted at /content/drive\n"
          ]
        }
      ]
    },
    {
      "cell_type": "code",
      "execution_count": 9,
      "metadata": {
        "colab": {
          "base_uri": "https://localhost:8080/"
        },
        "id": "zsAjV5-4veL2",
        "outputId": "ca99fe83-ba60-4033-fe26-5ba32266badc"
      },
      "outputs": [
        {
          "output_type": "execute_result",
          "data": {
            "text/plain": [
              "str"
            ]
          },
          "metadata": {},
          "execution_count": 9
        }
      ],
      "source": [
        "type(text)"
      ]
    },
    {
      "cell_type": "code",
      "execution_count": 10,
      "metadata": {
        "colab": {
          "base_uri": "https://localhost:8080/"
        },
        "id": "4hY7BoA4veL2",
        "outputId": "6ab33ad7-9c14-4271-9c81-97ba596aaee7"
      },
      "outputs": [
        {
          "output_type": "stream",
          "name": "stdout",
          "text": [
            "'Olá, como vai? Eu sou a Ana.\\n'\n",
            "'Olá, Ana, meu nome é Carlos. Muito prazer.\\n'\n",
            "'Prazer em conhecer você também. Como você está hoje?\\n'\n",
            "'Ótimo. Meu time de futebol venceu a competição.\\n'\n",
            "'Uau Parabéns, Carlos!\\n'\n",
            "'Obrigado Ana.\\n'\n",
            "'Vamos comer uma pizza mais tarde para celebrar?\\n'\n",
            "'Claro. Você recomenda algum restaurante Ana?\\n'\n",
            "'Sim, abriu um restaurante novo e dizem que a pizza de banana é fenomenal.\\n'\n",
            "'Ok. Nos encontramos no restaurante às sete da noite, pode ser?\\n'\n",
            "'Pode sim. Nos vemos mais tarde então.'\n"
          ]
        }
      ],
      "source": [
        "print(text)"
      ]
    },
    {
      "cell_type": "markdown",
      "metadata": {
        "id": "_77rztpNveL2"
      },
      "source": [
        "## Pré-Processamento dos Dados de Texto e Construção do Vocabulário"
      ]
    },
    {
      "cell_type": "code",
      "execution_count": 11,
      "metadata": {
        "id": "0wfe4R6RveL2"
      },
      "outputs": [],
      "source": [
        "# Filtramos caracteres especiais: '.', ',', '?', '!'\n",
        "sentences = re.sub(\"[.,!?\\\\-]\", '', text.lower()).split('\\n')"
      ]
    },
    {
      "cell_type": "code",
      "execution_count": null,
      "metadata": {
        "colab": {
          "base_uri": "https://localhost:8080/"
        },
        "id": "XaWoHqHCveL2",
        "outputId": "c2fcf3f2-4581-49c5-85dc-cb7fec88efad"
      },
      "outputs": [
        {
          "output_type": "stream",
          "name": "stdout",
          "text": [
            "[\"'olá como vai eu sou a ana\\\\n'\", \"'olá ana meu nome é carlos muito prazer\\\\n'\", \"'prazer em conhecer você também como você está hoje\\\\n'\", \"'ótimo meu time de futebol venceu a competição\\\\n'\", \"'uau parabéns carlos\\\\n'\", \"'obrigado ana\\\\n'\", \"'vamos comer uma pizza mais tarde para celebrar\\\\n'\", \"'claro você recomenda algum restaurante ana\\\\n'\", \"'sim abriu um restaurante novo e dizem que a pizza de banana é fenomenal\\\\n'\", \"'ok nos encontramos no restaurante às sete da noite pode ser\\\\n'\", \"'pode sim nos vemos mais tarde então'\"]\n"
          ]
        }
      ],
      "source": [
        "print(sentences)"
      ]
    },
    {
      "cell_type": "code",
      "execution_count": null,
      "metadata": {
        "id": "cildAXzaveL3"
      },
      "outputs": [],
      "source": [
        "# Dividimos as frases em palavras e criamos uma lista de palavras\n",
        "word_list = list(set(\" \".join(sentences).split()))"
      ]
    },
    {
      "cell_type": "code",
      "execution_count": null,
      "metadata": {
        "colab": {
          "base_uri": "https://localhost:8080/"
        },
        "id": "GldyIm8dveL3",
        "outputId": "9b8ae295-563c-4928-aecb-c01bee221dc4"
      },
      "outputs": [
        {
          "output_type": "stream",
          "name": "stdout",
          "text": [
            "['recomenda', 'carlos', 'um', \"celebrar\\\\n'\", \"competição\\\\n'\", 'novo', 'restaurante', 'também', 'uma', \"fenomenal\\\\n'\", \"'sim\", 'ana', 'banana', 'meu', 'muito', 'você', 'pizza', \"'pode\", 'sete', \"'vamos\", \"ser\\\\n'\", 'e', 'nome', \"prazer\\\\n'\", 'que', 'sim', 'é', \"ana\\\\n'\", 'abriu', 'venceu', 'como', 'mais', 'tarde', 'futebol', 'conhecer', 'de', 'noite', 'vai', 'nos', 'está', 'em', 'parabéns', 'às', 'pode', 'eu', \"'ótimo\", \"'uau\", 'vemos', \"'ok\", 'da', \"carlos\\\\n'\", \"'prazer\", 'comer', 'no', \"'obrigado\", 'dizem', 'sou', 'time', 'encontramos', \"então'\", 'para', \"'claro\", \"hoje\\\\n'\", \"'olá\", 'algum', 'a']\n"
          ]
        }
      ],
      "source": [
        "print(word_list)"
      ]
    },
    {
      "cell_type": "code",
      "execution_count": null,
      "metadata": {
        "id": "WfA-V7I2veL3"
      },
      "outputs": [],
      "source": [
        "# Inicializa o dicionário de palavras com os tokens especiais do BERT\n",
        "word_dict = {'[PAD]': 0, '[CLS]': 1, '[SEP]': 2, '[MASK]': 3}"
      ]
    },
    {
      "cell_type": "code",
      "execution_count": null,
      "metadata": {
        "colab": {
          "base_uri": "https://localhost:8080/"
        },
        "id": "AL-vagwdveL3",
        "outputId": "c5b4f096-c2df-4b0b-b0f4-d0d59fe67a7e"
      },
      "outputs": [
        {
          "output_type": "stream",
          "name": "stdout",
          "text": [
            "{'[PAD]': 0, '[CLS]': 1, '[SEP]': 2, '[MASK]': 3}\n"
          ]
        }
      ],
      "source": [
        "print(word_dict)"
      ]
    },
    {
      "cell_type": "code",
      "execution_count": null,
      "metadata": {
        "id": "fCod-kF7veL3"
      },
      "outputs": [],
      "source": [
        "# Incluímos as palavras no dicionário e criamos índices\n",
        "for i, w in enumerate(word_list):\n",
        "    word_dict[w] = i + 4"
      ]
    },
    {
      "cell_type": "code",
      "execution_count": null,
      "metadata": {
        "colab": {
          "base_uri": "https://localhost:8080/"
        },
        "id": "Yj8IntfRveL3",
        "outputId": "1743edcc-7711-4c8d-826d-597e692777e8"
      },
      "outputs": [
        {
          "output_type": "stream",
          "name": "stdout",
          "text": [
            "{'[PAD]': 0, '[CLS]': 1, '[SEP]': 2, '[MASK]': 3, 'recomenda': 4, 'carlos': 5, 'um': 6, \"celebrar\\\\n'\": 7, \"competição\\\\n'\": 8, 'novo': 9, 'restaurante': 10, 'também': 11, 'uma': 12, \"fenomenal\\\\n'\": 13, \"'sim\": 14, 'ana': 15, 'banana': 16, 'meu': 17, 'muito': 18, 'você': 19, 'pizza': 20, \"'pode\": 21, 'sete': 22, \"'vamos\": 23, \"ser\\\\n'\": 24, 'e': 25, 'nome': 26, \"prazer\\\\n'\": 27, 'que': 28, 'sim': 29, 'é': 30, \"ana\\\\n'\": 31, 'abriu': 32, 'venceu': 33, 'como': 34, 'mais': 35, 'tarde': 36, 'futebol': 37, 'conhecer': 38, 'de': 39, 'noite': 40, 'vai': 41, 'nos': 42, 'está': 43, 'em': 44, 'parabéns': 45, 'às': 46, 'pode': 47, 'eu': 48, \"'ótimo\": 49, \"'uau\": 50, 'vemos': 51, \"'ok\": 52, 'da': 53, \"carlos\\\\n'\": 54, \"'prazer\": 55, 'comer': 56, 'no': 57, \"'obrigado\": 58, 'dizem': 59, 'sou': 60, 'time': 61, 'encontramos': 62, \"então'\": 63, 'para': 64, \"'claro\": 65, \"hoje\\\\n'\": 66, \"'olá\": 67, 'algum': 68, 'a': 69}\n"
          ]
        }
      ],
      "source": [
        "print(word_dict)"
      ]
    },
    {
      "cell_type": "code",
      "execution_count": null,
      "metadata": {
        "id": "FTI3FjPyveL3"
      },
      "outputs": [],
      "source": [
        "# Invertemos a ordem e colocamos os índices como chave e as palavras como valor no dicionário\n",
        "number_dict = {i: w for i, w in enumerate(word_dict)}"
      ]
    },
    {
      "cell_type": "code",
      "execution_count": null,
      "metadata": {
        "colab": {
          "base_uri": "https://localhost:8080/"
        },
        "id": "DSxE0OwAveL4",
        "outputId": "e484a174-43a0-4362-eb54-2ecd3774cf67"
      },
      "outputs": [
        {
          "output_type": "execute_result",
          "data": {
            "text/plain": [
              "{0: '[PAD]',\n",
              " 1: '[CLS]',\n",
              " 2: '[SEP]',\n",
              " 3: '[MASK]',\n",
              " 4: 'recomenda',\n",
              " 5: 'carlos',\n",
              " 6: 'um',\n",
              " 7: \"celebrar\\\\n'\",\n",
              " 8: \"competição\\\\n'\",\n",
              " 9: 'novo',\n",
              " 10: 'restaurante',\n",
              " 11: 'também',\n",
              " 12: 'uma',\n",
              " 13: \"fenomenal\\\\n'\",\n",
              " 14: \"'sim\",\n",
              " 15: 'ana',\n",
              " 16: 'banana',\n",
              " 17: 'meu',\n",
              " 18: 'muito',\n",
              " 19: 'você',\n",
              " 20: 'pizza',\n",
              " 21: \"'pode\",\n",
              " 22: 'sete',\n",
              " 23: \"'vamos\",\n",
              " 24: \"ser\\\\n'\",\n",
              " 25: 'e',\n",
              " 26: 'nome',\n",
              " 27: \"prazer\\\\n'\",\n",
              " 28: 'que',\n",
              " 29: 'sim',\n",
              " 30: 'é',\n",
              " 31: \"ana\\\\n'\",\n",
              " 32: 'abriu',\n",
              " 33: 'venceu',\n",
              " 34: 'como',\n",
              " 35: 'mais',\n",
              " 36: 'tarde',\n",
              " 37: 'futebol',\n",
              " 38: 'conhecer',\n",
              " 39: 'de',\n",
              " 40: 'noite',\n",
              " 41: 'vai',\n",
              " 42: 'nos',\n",
              " 43: 'está',\n",
              " 44: 'em',\n",
              " 45: 'parabéns',\n",
              " 46: 'às',\n",
              " 47: 'pode',\n",
              " 48: 'eu',\n",
              " 49: \"'ótimo\",\n",
              " 50: \"'uau\",\n",
              " 51: 'vemos',\n",
              " 52: \"'ok\",\n",
              " 53: 'da',\n",
              " 54: \"carlos\\\\n'\",\n",
              " 55: \"'prazer\",\n",
              " 56: 'comer',\n",
              " 57: 'no',\n",
              " 58: \"'obrigado\",\n",
              " 59: 'dizem',\n",
              " 60: 'sou',\n",
              " 61: 'time',\n",
              " 62: 'encontramos',\n",
              " 63: \"então'\",\n",
              " 64: 'para',\n",
              " 65: \"'claro\",\n",
              " 66: \"hoje\\\\n'\",\n",
              " 67: \"'olá\",\n",
              " 68: 'algum',\n",
              " 69: 'a'}"
            ]
          },
          "metadata": {},
          "execution_count": 23
        }
      ],
      "source": [
        "number_dict"
      ]
    },
    {
      "cell_type": "code",
      "execution_count": null,
      "metadata": {
        "colab": {
          "base_uri": "https://localhost:8080/"
        },
        "id": "lWrDaSYbveL4",
        "outputId": "fb705cc2-0230-4a11-d297-ce7eb9f9f25d"
      },
      "outputs": [
        {
          "output_type": "stream",
          "name": "stdout",
          "text": [
            "70\n"
          ]
        }
      ],
      "source": [
        "# Tamanho do vocabulário\n",
        "vocab_size = len(word_dict)\n",
        "print(vocab_size)"
      ]
    },
    {
      "cell_type": "code",
      "execution_count": null,
      "metadata": {
        "id": "0lJfCqkXveL4"
      },
      "outputs": [],
      "source": [
        "# Criamos uma lista para os tokens\n",
        "token_list = list()"
      ]
    },
    {
      "cell_type": "code",
      "execution_count": null,
      "metadata": {
        "id": "dZXQM7TIpydr"
      },
      "outputs": [],
      "source": [
        "# Loop pelas sentenças para criar a lista de tokens\n",
        "for sentence in sentences:\n",
        "    arr = [word_dict[s] for s in sentence.split()]\n",
        "    token_list.append(arr)"
      ]
    },
    {
      "cell_type": "code",
      "execution_count": null,
      "metadata": {
        "colab": {
          "base_uri": "https://localhost:8080/"
        },
        "id": "tab7hDxUpyds",
        "outputId": "a78a406b-89cb-44fe-b4cf-7f29cfce81e4"
      },
      "outputs": [
        {
          "output_type": "execute_result",
          "data": {
            "text/plain": [
              "[[67, 34, 41, 48, 60, 69, 31],\n",
              " [67, 15, 17, 26, 30, 5, 18, 27],\n",
              " [55, 44, 38, 19, 11, 34, 19, 43, 66],\n",
              " [49, 17, 61, 39, 37, 33, 69, 8],\n",
              " [50, 45, 54],\n",
              " [58, 31],\n",
              " [23, 56, 12, 20, 35, 36, 64, 7],\n",
              " [65, 19, 4, 68, 10, 31],\n",
              " [14, 32, 6, 10, 9, 25, 59, 28, 69, 20, 39, 16, 30, 13],\n",
              " [52, 42, 62, 57, 10, 46, 22, 53, 40, 47, 24],\n",
              " [21, 29, 42, 51, 35, 36, 63]]"
            ]
          },
          "metadata": {},
          "execution_count": 27
        }
      ],
      "source": [
        "token_list"
      ]
    },
    {
      "cell_type": "code",
      "execution_count": null,
      "metadata": {
        "colab": {
          "base_uri": "https://localhost:8080/",
          "height": 35
        },
        "id": "-EPONxedveL5",
        "outputId": "96193416-d259-4290-ebd8-bc4d6e128cf1"
      },
      "outputs": [
        {
          "output_type": "execute_result",
          "data": {
            "text/plain": [
              "\"'Olá, como vai? Eu sou a Ana.\""
            ],
            "application/vnd.google.colaboratory.intrinsic+json": {
              "type": "string"
            }
          },
          "metadata": {},
          "execution_count": 28
        }
      ],
      "source": [
        "# Primeira frase\n",
        "text[0:29]"
      ]
    },
    {
      "cell_type": "code",
      "execution_count": null,
      "metadata": {
        "colab": {
          "base_uri": "https://localhost:8080/"
        },
        "id": "QgPvm3avveL5",
        "outputId": "4ee81583-ea3b-4a01-a00f-cad5f51876a0"
      },
      "outputs": [
        {
          "output_type": "execute_result",
          "data": {
            "text/plain": [
              "[67, 34, 41, 48, 60, 69, 31]"
            ]
          },
          "metadata": {},
          "execution_count": 29
        }
      ],
      "source": [
        "# Primeira frase no formato de token (o que será usado para treinar o modelo BERT)\n",
        "token_list[0]"
      ]
    },
    {
      "cell_type": "markdown",
      "metadata": {
        "id": "pNoqU1X_veL5"
      },
      "source": [
        "> Abaixo estão os Hiperparâmetros usados para controlar o treinamento."
      ]
    },
    {
      "cell_type": "code",
      "execution_count": null,
      "metadata": {
        "id": "_HzEd-kcpydt"
      },
      "outputs": [],
      "source": [
        "# Hiperparâmetros\n",
        "batch_size = 6\n",
        "n_segments = 2\n",
        "dropout = 0.2\n",
        "\n",
        "# Comprimento máximo\n",
        "maxlen = 100\n",
        "\n",
        "# Número máximo de tokens que serão previstos\n",
        "max_pred = 7\n",
        "\n",
        "# Número de camadas\n",
        "n_layers = 6\n",
        "\n",
        "# Número de cabeças no multi-head attention\n",
        "n_heads = 12\n",
        "\n",
        "# Tamanho da embedding\n",
        "d_model = 768\n",
        "\n",
        "# Tamanho da dimensão feedforward: 4 * d_model\n",
        "d_ff = d_model * 4\n",
        "\n",
        "# Dimensão de K(=Q)V\n",
        "d_k = d_v = 64\n",
        "\n",
        "# Epochs\n",
        "NUM_EPOCHS = 50"
      ]
    },
    {
      "cell_type": "markdown",
      "metadata": {
        "id": "k_Lf98yfveL5"
      },
      "source": [
        "## Criação dos Batches de Dados e Aplicação dos Tokens Especiais"
      ]
    },
    {
      "cell_type": "markdown",
      "metadata": {
        "id": "pcwxJDwZveL5"
      },
      "source": [
        "A função make_batch() abaixo cria lotes (batches) de dados para o treinamento do modelo BERT. Ela é responsável por gerar a entrada correta necessária para o treinamento do BERT, que inclui os tokens de entrada, os tokens mascarados, as posições dos tokens mascarados, os IDs de segmentos e um rótulo indicando se a segunda sentença segue imediatamente a primeira. Vamos descrever cada uma das partes da função e usar imagens para facilitar a compreensão.\n",
        "\n",
        "Inicialização: A função começa inicializando um lote vazio e contadores para sentenças positivas e negativas. Sentenças positivas são pares de sentenças onde a segunda sentença segue imediatamente a primeira, enquanto as negativas são pares onde isso não ocorre. O lote deve ser equilibrado entre sentenças positivas e negativas.\n",
        "\n",
        "Geração de pares de sentenças: Para cada instância no lote, a função seleciona aleatoriamente duas sentenças do conjunto de dados. Cada sentença é então convertida em uma lista de IDs de tokens e os tokens especiais [CLS] e [SEP] são adicionados nos lugares apropriados.\n",
        "\n",
        "Segment IDs: Para cada par de sentenças, a função gera IDs de segmentos, que são 0 para tokens na primeira sentença e 1 para tokens na segunda sentença.\n",
        "\n",
        "Masked Language Model (MLM): A função então seleciona aleatoriamente 15% dos tokens para mascarar para a tarefa de MLM, garantindo que os tokens [CLS] e [SEP] não sejam mascarados. Esses tokens são substituídos pelo token [MASK], por um token aleatório ou permanecem inalterados, dependendo de um sorteio aleatório.\n",
        "\n",
        "![image](https://drive.google.com/uc?export=view&id=1Bl8biDkEIAPdlI7AXT4n_Y2pauFE6CYj)\n",
        "\n",
        "Padding: A função adiciona padding aos IDs de entrada, aos IDs de segmento, aos tokens mascarados e às posições mascaradas para garantir que todas as listas tenham o mesmo comprimento.\n",
        "\n",
        "Next Sentence Prediction: Por último, a função verifica se a segunda sentença segue imediatamente a primeira. Se sim, ela adiciona um rótulo True à instância e incrementa o contador de positivos. Se não, ela adiciona um rótulo False e incrementa o contador de negativos.\n",
        "\n",
        "![image](https://drive.google.com/uc?export=view&id=1kdGk9crgMDoozx0rL1pqqrU6pO27bITX)\n",
        "\n",
        "Esta função continua gerando instâncias até que o lote esteja cheio e contenha uma quantidade igual de instâncias positivas e negativas. Então, o lote é retornado.\n",
        "\n",
        "Note que esta função é apenas um exemplo de como os dados podem ser preparados para o treinamento do BERT. Dependendo do conjunto de dados e da tarefa específica, pode ser necessário ajustar esta função."
      ]
    },
    {
      "cell_type": "markdown",
      "metadata": {
        "id": "W3WgfItOveL6"
      },
      "source": [
        "A principal inovação técnica do BERT é aplicar o treinamento bidirecional do Transformer, um modelo de atenção popular, à modelagem de linguagem. Isso contrasta com os esforços anteriores que analisavam uma sequência de texto da esquerda para a direita ou um treinamento combinado da esquerda para a direita e da direita para a esquerda. Os resultados do artigo mostram que um modelo de linguagem que é treinado bidirecionalmente pode ter um senso mais profundo de contexto e fluxo de linguagem do que modelos de linguagem de direção única. No artigo, os pesquisadores detalham uma nova técnica chamada Masked LM (MLM), que permite o treinamento bidirecional em modelos nos quais antes era impossível. Link do artigo do BERT: https://arxiv.org/abs/1810.04805"
      ]
    },
    {
      "cell_type": "code",
      "execution_count": null,
      "metadata": {
        "id": "fYLFtroMpydu"
      },
      "outputs": [],
      "source": [
        "# Função para criar os batches de dados\n",
        "def make_batch():\n",
        "\n",
        "    batch = []\n",
        "\n",
        "    positive = negative = 0\n",
        "\n",
        "    while positive != batch_size/2 or negative != batch_size/2:\n",
        "\n",
        "        tokens_a_index, tokens_b_index = randrange(len(sentences)), randrange(len(sentences))\n",
        "\n",
        "        tokens_a, tokens_b = token_list[tokens_a_index], token_list[tokens_b_index]\n",
        "\n",
        "        input_ids = [word_dict['[CLS]']] + tokens_a + [word_dict['[SEP]']] + tokens_b + [word_dict['[SEP]']]\n",
        "\n",
        "        segment_ids = [0] * (1 + len(tokens_a) + 1) + [1] * (len(tokens_b) + 1)\n",
        "\n",
        "        # MASK LM (MLM) de 15 % dos tokens em uma sentença\n",
        "        n_pred =  min(max_pred, max(1, int(round(len(input_ids) * 0.15))))\n",
        "\n",
        "        cand_maked_pos = [i for i, token in enumerate(input_ids)\n",
        "                          if token != word_dict['[CLS]'] and token != word_dict['[SEP]']]\n",
        "\n",
        "        shuffle(cand_maked_pos)\n",
        "\n",
        "        masked_tokens, masked_pos = [], []\n",
        "\n",
        "        for pos in cand_maked_pos[:n_pred]:\n",
        "\n",
        "            masked_pos.append(pos)\n",
        "\n",
        "            masked_tokens.append(input_ids[pos])\n",
        "\n",
        "            if random() < 0.8:\n",
        "                input_ids[pos] = word_dict['[MASK]']\n",
        "            elif random() < 0.5:\n",
        "                index = randint(0, vocab_size - 1)\n",
        "                input_ids[pos] = word_dict[number_dict[index]]\n",
        "\n",
        "        # Zero Paddings\n",
        "        n_pad = maxlen - len(input_ids)\n",
        "        input_ids.extend([0] * n_pad)\n",
        "        segment_ids.extend([0] * n_pad)\n",
        "\n",
        "        # Zero Padding (100% - 15%) tokens\n",
        "        if max_pred > n_pred:\n",
        "            n_pad = max_pred - n_pred\n",
        "            masked_tokens.extend([0] * n_pad)\n",
        "            masked_pos.extend([0] * n_pad)\n",
        "\n",
        "        if tokens_a_index + 1 == tokens_b_index and positive < batch_size / 2:\n",
        "\n",
        "            # IsNext\n",
        "            batch.append([input_ids, segment_ids, masked_tokens, masked_pos, True])\n",
        "            positive += 1\n",
        "        elif tokens_a_index + 1 != tokens_b_index and negative < batch_size / 2:\n",
        "\n",
        "            # NotNext\n",
        "            batch.append([input_ids, segment_ids, masked_tokens, masked_pos, False])\n",
        "            negative += 1\n",
        "\n",
        "    return batch"
      ]
    },
    {
      "cell_type": "markdown",
      "metadata": {
        "id": "HHYxr_8EveL6"
      },
      "source": [
        "A função get_attn_pad_masked() abaixo cria uma máscara de atenção para tokens de padding em uma sequência.\n",
        "\n",
        "Entradas: A função aceita duas sequências, seq_q e seq_k. Estas são tipicamente a sequência de consulta (query) e a sequência chave (key) em uma operação de atenção.\n",
        "\n",
        "Extração de tamanho: A função extrai o tamanho do lote (batch_size) e os comprimentos das sequências (len_q e len_k) a partir das dimensões das sequências de entrada.\n",
        "\n",
        "Criação da máscara: A máscara de atenção é criada verificando quais elementos em seq_k são iguais a zero (o que indica um token de padding). Isso produz uma matriz booleana do mesmo tamanho que seq_k, onde True indica um token de padding e False indica um token real.\n",
        "\n",
        "Adição de uma dimensão: A dimensão é adicionada à máscara usando o método unsqueeze(1), que adiciona uma dimensão extra no índice 1. Isso é necessário porque a máscara de atenção deve ter a mesma dimensão que as matrizes de atenção no Transformer.\n",
        "\n",
        "Expansão da máscara: Finalmente, a máscara é expandida para ter o mesmo tamanho que a matriz de atenção, que tem dimensões (batch_size, len_q, len_k). A máscara expandida é retornada pela função.\n",
        "\n",
        "Em resumo, a função get_attn_pad_masked cria uma máscara que pode ser usada para impedir que o modelo preste atenção aos tokens de padding quando calcula a atenção. Tokens de padding são usados para preencher sequências para que todas tenham o mesmo comprimento, mas eles não carregam nenhuma informação útil, por isso é importante garantir que o modelo os ignore."
      ]
    },
    {
      "cell_type": "code",
      "execution_count": null,
      "metadata": {
        "id": "tun2vU1dpydv"
      },
      "outputs": [],
      "source": [
        "# Função para o padding\n",
        "def get_attn_pad_masked(seq_q, seq_k):\n",
        "\n",
        "    batch_size, len_q = seq_q.size()\n",
        "\n",
        "    batch_size, len_k = seq_k.size()\n",
        "\n",
        "    pad_attn_masked = seq_k.data.eq(0).unsqueeze(1)\n",
        "\n",
        "    return pad_attn_masked.expand(batch_size, len_q, len_k)"
      ]
    },
    {
      "cell_type": "code",
      "execution_count": null,
      "metadata": {
        "id": "Fq2BFQ0kpydw"
      },
      "outputs": [],
      "source": [
        "# Cria um batch\n",
        "batch = make_batch()"
      ]
    },
    {
      "cell_type": "code",
      "execution_count": null,
      "metadata": {
        "id": "l1sOb8tbpydx"
      },
      "outputs": [],
      "source": [
        "# Extrai os elementos do batch\n",
        "input_ids, segment_ids, masked_tokens, masked_pos, isNext = map(torch.LongTensor, zip(*batch))"
      ]
    },
    {
      "cell_type": "code",
      "execution_count": null,
      "metadata": {
        "colab": {
          "base_uri": "https://localhost:8080/"
        },
        "id": "eGWch4cvpydx",
        "outputId": "b017e68d-dc13-4681-e360-8a08e96e8e86"
      },
      "outputs": [
        {
          "output_type": "execute_result",
          "data": {
            "text/plain": [
              "(tensor([False, False, False, False, False, False, False, False, False, False,\n",
              "         False, False, False, False, False, False, False, False, False, False,\n",
              "         False,  True,  True,  True,  True,  True,  True,  True,  True,  True,\n",
              "          True,  True,  True,  True,  True,  True,  True,  True,  True,  True,\n",
              "          True,  True,  True,  True,  True,  True,  True,  True,  True,  True,\n",
              "          True,  True,  True,  True,  True,  True,  True,  True,  True,  True,\n",
              "          True,  True,  True,  True,  True,  True,  True,  True,  True,  True,\n",
              "          True,  True,  True,  True,  True,  True,  True,  True,  True,  True,\n",
              "          True,  True,  True,  True,  True,  True,  True,  True,  True,  True,\n",
              "          True,  True,  True,  True,  True,  True,  True,  True,  True,  True]),\n",
              " tensor([ 1, 52, 42, 62, 57, 10,  3, 22, 53, 40, 47, 24,  2,  3, 34, 41, 48, 60,\n",
              "         69, 31,  2,  0,  0,  0,  0,  0,  0,  0,  0,  0,  0,  0,  0,  0,  0,  0,\n",
              "          0,  0,  0,  0,  0,  0,  0,  0,  0,  0,  0,  0,  0,  0,  0,  0,  0,  0,\n",
              "          0,  0,  0,  0,  0,  0,  0,  0,  0,  0,  0,  0,  0,  0,  0,  0,  0,  0,\n",
              "          0,  0,  0,  0,  0,  0,  0,  0,  0,  0,  0,  0,  0,  0,  0,  0,  0,  0,\n",
              "          0,  0,  0,  0,  0,  0,  0,  0,  0,  0]))"
            ]
          },
          "metadata": {},
          "execution_count": 35
        }
      ],
      "source": [
        "# Aplica a função de padding\n",
        "get_attn_pad_masked(input_ids, input_ids)[0][0], input_ids[0]"
      ]
    },
    {
      "cell_type": "markdown",
      "metadata": {
        "id": "1TaKh8OfveL_"
      },
      "source": [
        "## Construção do Modelo\n",
        "\n",
        "Leia o manual em pdf que descreve em detalhes as imagens abaixo.\n",
        "\n",
        "A imagem abaixo é uma descrição de alto nível do codificador Transformer. A entrada é uma sequência de tokens, que são primeiro incorporados em vetores e depois processados na rede neural. A saída é uma sequência de vetores de tamanho H, em que cada vetor corresponde a um token de entrada com o mesmo índice.\n",
        "\n",
        "Em termos técnicos, a previsão das palavras de saída requer:\n",
        "\n",
        "- 1- Adicionar uma camada de classificação na parte superior da saída do codificador.\n",
        "- 2- Multiplicar os vetores de saída pela matriz embedding, transformando-os na dimensão do vocabulário.\n",
        "- 3- Calcular a probabilidade de cada palavra no vocabulário com softmax.\n",
        "\n",
        "A função de perda no modelo BERT leva em consideração apenas a previsão dos valores mascarados e ignora a previsão das palavras não mascaradas. Como consequência, o modelo converge mais lentamente do que os modelos direcionais, uma característica que é compensada por sua maior percepção do contexto.\n",
        "\n",
        "![image](https://drive.google.com/uc?export=view&id=1OTtXPPJgyEg9uPVZiH1uVxPIl6vHo1s_)\n",
        "\n",
        "No processo de treinamento BERT, o modelo recebe pares de sentenças como entrada e aprende a prever se a segunda sentença do par é a sentença subsequente no documento original. Durante o treinamento, 50% das entradas são um par em que a segunda sentença é a sentença subsequente no documento original, enquanto nos outros 50% uma sentença aleatória do corpus é escolhida como a segunda sentença.\n",
        "\n",
        "Para ajudar o modelo a distinguir entre as duas sentenças em treinamento, a entrada é processada da seguinte maneira antes de entrar no modelo:\n",
        "\n",
        "- 1- Um token [CLS] é inserido no início da primeira frase e um token [SEP] é inserido no final de cada frase.\n",
        "- 2- Uma embedding de frase indicando a Sentença A ou a Sentença B é adicionada a cada token. As embeddings de sentença são semelhantes em conceito às embeddings de token com um vocabulário de 2.\n",
        "- 3- Uma embedding posicional é adicionada a cada token para indicar sua posição na sequência. O conceito e a implementação da embedding posicional são apresentados no artigo Transformer.\n",
        "\n",
        "De fato a embedding usada para treinar o modelo é uma combinação de várias embeddings.\n",
        "\n",
        "![image](https://drive.google.com/uc?export=view&id=1-HA9bt9VILeAq7lYUNPLXekIoixl2MyO)"
      ]
    },
    {
      "cell_type": "code",
      "execution_count": null,
      "metadata": {
        "id": "eSQr1_RYveL_"
      },
      "outputs": [],
      "source": [
        "# Função de ativação GeLu\n",
        "def gelu(x):\n",
        "    return x * 0.5 * (1.0 + torch.erf(x / math.sqrt(2.0)))"
      ]
    },
    {
      "cell_type": "markdown",
      "metadata": {
        "id": "9OiI8BlCveL_"
      },
      "source": [
        "#### Módulo Embedding\n",
        "\n",
        "A classe de Embedding abaixo faz parte da arquitetura BERT. Componentes individuais da Classe:\n",
        "\n",
        "Inicialização (def init(self)): O construtor da classe inicializa os componentes necessários para as embeddings.\n",
        "\n",
        "self.tok_embed: Esta é a camada de embedding de token que mapeia cada token para um vetor de dimensão d_model.\n",
        "\n",
        "self.pos_embed: Esta é a camada de embedding de posição que mapeia a posição de um token dentro de uma sequência para um vetor de dimensão d_model.\n",
        "\n",
        "self.seg_embed: Esta é a camada de embedding de segmento que mapeia o tipo de token (0 para a primeira sentença e 1 para a segunda sentença) para um vetor de dimensão d_model.\n",
        "\n",
        "self.norm: Este é o componente de normalização da camada que é usado para normalizar os vetores de embedding.\n",
        "\n",
        "Método Forward (def forward(self, x, seg)): O método forward é onde a embedding real acontece.\n",
        "\n",
        "- Primeiro, ele calcula a posição de cada token na sequência.\n",
        "- Em seguida, ele cria uma matriz de posições da mesma forma que a entrada x usando pos.unsqueeze(0).expand_as(x).\n",
        "- Depois, ele calcula a embedding total como a soma das embeddings de token, posição e segmento.\n",
        "- Finalmente, ele normaliza a embedding usando a camada de normalização e retorna o resultado.\n",
        "\n",
        "A combinação dessas três embeddings permite ao BERT levar em consideração tanto o significado individual dos tokens quanto a ordem em que aparecem na sequência, bem como se o token pertence à primeira ou à segunda sentença. Isso torna a embedding do BERT muito poderosa e flexível."
      ]
    },
    {
      "cell_type": "code",
      "execution_count": null,
      "metadata": {
        "id": "FVQz9Zi6veL_"
      },
      "outputs": [],
      "source": [
        "# Classe Embedding\n",
        "class Embedding(nn.Module):\n",
        "\n",
        "    # Método construtor\n",
        "    def __init__(self):\n",
        "\n",
        "        super(Embedding, self).__init__()\n",
        "\n",
        "        # Token embedding\n",
        "        self.tok_embed = nn.Embedding(vocab_size, d_model)\n",
        "\n",
        "        # Position embedding\n",
        "        self.pos_embed = nn.Embedding(maxlen, d_model)\n",
        "\n",
        "        # Segment (tipo de token) embedding\n",
        "        self.seg_embed = nn.Embedding(n_segments, d_model)\n",
        "\n",
        "        # Normalização de camada\n",
        "        self.norm = nn.LayerNorm(d_model)\n",
        "\n",
        "    # Método Forward\n",
        "    def forward(self, x, seg):\n",
        "\n",
        "        seq_len = x.size(1)\n",
        "\n",
        "        pos = torch.arange(seq_len, dtype = torch.long)\n",
        "\n",
        "        # (seq_len,) -> (batch_size, seq_len)\n",
        "        pos = pos.unsqueeze(0).expand_as(x)\n",
        "\n",
        "        embedding = self.tok_embed(x) + self.pos_embed(pos) + self.seg_embed(seg)\n",
        "\n",
        "        return self.norm(embedding)"
      ]
    },
    {
      "cell_type": "markdown",
      "metadata": {
        "id": "Z2HzFikzveL_"
      },
      "source": [
        "#### Módulo Scaled Dot Product Attention\n",
        "\n",
        "Abaixo está a implementação do mecanismo de Atenção por Produto Escalar Normalizado (Scaled Dot-Product Attention), que é uma parte chave do modelo Transformer, utilizado no BERT e em outros modelos de processamento de linguagem natural.\n",
        "\n",
        "Aqui está uma explicação linha a linha do método forward:\n",
        "\n",
        "Pontuações (Scores): O produto escalar de Q (matriz de consulta) e K (matriz chave) é calculado para determinar a pontuação para cada par de chave-consulta. Essas pontuações determinam o quanto cada elemento da sequência de entrada deve ser atendido na produção da representação de saída para um determinado elemento. A pontuação é então escalada pela raiz quadrada da dimensão das chaves (d_k) para evitar que os valores de produto escalar se tornem muito grandes em ambientes de alta dimensão.\n",
        "\n",
        "Máscara de Atenção: A máscara de atenção é aplicada às pontuações ao preencher os locais onde a máscara tem valor 1 com um número muito grande negativo (-1e9). Isso garante que esses locais recebam um peso próximo de zero quando a softmax for aplicada.\n",
        "\n",
        "Softmax: A função softmax é aplicada ao último eixo das pontuações para obter os pesos de atenção. Isso garante que todos os pesos são positivos e somam 1, então eles podem ser interpretados como probabilidades.\n",
        "\n",
        "Contexto: Os pesos de atenção são então multiplicados pela matriz de valores V (value) para obter a saída do mecanismo de atenção. Cada valor é ponderado pela quantidade que deveríamos \"atender\" a esse valor, conforme determinado pelos pesos de atenção.\n",
        "\n",
        "O método retorna o contexto (a saída ponderada) e a matriz de atenção.\n",
        "\n",
        "No modelo Transformer, a Atenção por Produto Escalar Normalizado é usada várias vezes em cada camada, permitindo que o modelo dê atenção a diferentes partes da entrada ao produzir cada elemento da saída. Isso permite que o Transformer lide efetivamente com as dependências de longo alcance entre as palavras nas sequências de entrada."
      ]
    },
    {
      "cell_type": "code",
      "execution_count": null,
      "metadata": {
        "id": "84J8N3YAveMA"
      },
      "outputs": [],
      "source": [
        "# Classe ScaledDotProductAttention\n",
        "class ScaledDotProductAttention(nn.Module):\n",
        "\n",
        "    def __init__(self):\n",
        "\n",
        "        super(ScaledDotProductAttention, self).__init__()\n",
        "\n",
        "    def forward(self, Q, K, V, attn_mask):\n",
        "\n",
        "        scores = torch.matmul(Q, K.transpose(-1, -2)) / np.sqrt(d_k)\n",
        "\n",
        "        scores.masked_fill_(attn_mask, -1e9)\n",
        "\n",
        "        attn = nn.Softmax(dim = -1)(scores)\n",
        "\n",
        "        context = torch.matmul(attn, V)\n",
        "\n",
        "        return context, attn"
      ]
    },
    {
      "cell_type": "markdown",
      "metadata": {
        "id": "1HKRYZsXveMA"
      },
      "source": [
        "#### Módulo Multi-Head Attention\n",
        "\n",
        "Abaixo está a implementação de Atenção Multi-Cabeças (Multi-Head Attention), que é um componente chave da arquitetura Transformer, usada em modelos como BERT. A ideia da atenção multi-cabeças é aplicar a atenção do produto escalar normalizado várias vezes em paralelo, cada uma com diferentes pesos aprendidos. Isso permite ao modelo focar em diferentes posições e capturar vários tipos de informação.\n",
        "\n",
        "Vamos analisar linha a linha o método forward:\n",
        "\n",
        "Inicialização: residual e batch_size são inicializados com Q e o tamanho do primeiro eixo de Q, respectivamente. O residual será utilizado mais tarde para o caminho de conexão residual.\n",
        "\n",
        "Transformações Lineares: Aplicamos transformações lineares aos dados de entrada (Q, K e V) usando pesos diferentes. Essas transformações geram múltiplas \"cabeças\" de atenção.\n",
        "\n",
        "Remodelagem: As saídas dessas transformações lineares são então reformuladas e transpostas para terem a forma apropriada para a atenção de produto escalar normalizado.\n",
        "\n",
        "Máscara de Atenção: A máscara de atenção é ajustada para corresponder ao formato das cabeças de atenção.\n",
        "\n",
        "Atenção de Produto Escalar Normalizado: A atenção de produto escalar normalizado é então aplicada a cada uma das cabeças de atenção.\n",
        "\n",
        "Remodelagem do Contexto: A saída (contexto) de cada cabeça de atenção é então reformulada e concatenada.\n",
        "\n",
        "Transformação Linear e Normalização: Uma transformação linear é aplicada ao contexto concatenado, seguida de uma normalização de camada.\n",
        "\n",
        "Conexão Residual: O resultado final é obtido somando a saída da normalização de camada ao caminho de conexão residual (entrada original Q).\n",
        "\n",
        "Finalmente, a função retorna a saída normalizada e a matriz de atenção. A atenção multi-cabeças permite que o modelo considere informações de diferentes partes da sequência de entrada, em diferentes subespaços de representação, ao mesmo tempo, o que melhora a capacidade do modelo de capturar várias características do texto."
      ]
    },
    {
      "cell_type": "code",
      "execution_count": null,
      "metadata": {
        "id": "FEMcW2aEpydy"
      },
      "outputs": [],
      "source": [
        "# Classe MultiHeadAttention\n",
        "class MultiHeadAttention(nn.Module):\n",
        "\n",
        "    def __init__(self) -> None:\n",
        "\n",
        "        super(MultiHeadAttention, self).__init__()\n",
        "\n",
        "        self.W_Q = nn.Linear(d_model, d_k * n_heads)\n",
        "        self.W_K = nn.Linear(d_model, d_k * n_heads)\n",
        "        self.W_V = nn.Linear(d_model, d_v * n_heads)\n",
        "\n",
        "    def forward(self, Q, K, V, attn_mask):\n",
        "\n",
        "        residual, batch_size = Q, Q.size(0)\n",
        "\n",
        "        q_s = self.W_Q(Q).view(batch_size, -1, n_heads, d_k).transpose(1,2)\n",
        "\n",
        "        k_s = self.W_K(K).view(batch_size, -1, n_heads, d_k).transpose(1,2)\n",
        "\n",
        "        v_s = self.W_V(V).view(batch_size, -1, n_heads, d_v).transpose(1,2)\n",
        "\n",
        "        attn_mask = attn_mask.unsqueeze(1).repeat(1, n_heads, 1, 1)\n",
        "\n",
        "        context, attn = ScaledDotProductAttention()(q_s, k_s, v_s, attn_mask)\n",
        "\n",
        "        context = context.transpose(1,2).contiguous().view(batch_size, -1, n_heads * d_v)\n",
        "\n",
        "        output = nn.Linear(n_heads * d_v, d_model)(context)\n",
        "\n",
        "        return nn.LayerNorm(d_model)(output + residual), attn"
      ]
    },
    {
      "cell_type": "code",
      "execution_count": null,
      "metadata": {
        "id": "DhhGqjQRveMA"
      },
      "outputs": [],
      "source": [
        "# Cria o objeto Embedding\n",
        "emb = Embedding()"
      ]
    },
    {
      "cell_type": "code",
      "execution_count": null,
      "metadata": {
        "id": "YxpKwEM4veMA"
      },
      "outputs": [],
      "source": [
        "# Gera as Embeddings\n",
        "embeds = emb(input_ids, segment_ids)"
      ]
    },
    {
      "cell_type": "code",
      "execution_count": null,
      "metadata": {
        "id": "mSeXVIHzveMA"
      },
      "outputs": [],
      "source": [
        "# Gera a máscara de atenção\n",
        "attenM = get_attn_pad_masked(input_ids, input_ids)"
      ]
    },
    {
      "cell_type": "code",
      "execution_count": null,
      "metadata": {
        "id": "zSuy-8LnveMA"
      },
      "outputs": [],
      "source": [
        "# Gera o MultiHeadAttention\n",
        "MHA = MultiHeadAttention()(embeds, embeds, embeds, attenM)"
      ]
    },
    {
      "cell_type": "code",
      "execution_count": null,
      "metadata": {
        "id": "AYpEq8Kgpydy"
      },
      "outputs": [],
      "source": [
        "# Saída\n",
        "output, A = MHA"
      ]
    },
    {
      "cell_type": "code",
      "execution_count": null,
      "metadata": {
        "id": "fgpmaMOMveMB",
        "outputId": "d1b352e1-6102-4226-e6fb-5caf2ab12d63",
        "colab": {
          "base_uri": "https://localhost:8080/"
        }
      },
      "outputs": [
        {
          "output_type": "execute_result",
          "data": {
            "text/plain": [
              "tensor([[0.0311, 0.0259, 0.0409,  ..., 0.0000, 0.0000, 0.0000],\n",
              "        [0.0423, 0.0409, 0.0602,  ..., 0.0000, 0.0000, 0.0000],\n",
              "        [0.0633, 0.0438, 0.0611,  ..., 0.0000, 0.0000, 0.0000],\n",
              "        ...,\n",
              "        [0.0564, 0.0519, 0.0521,  ..., 0.0000, 0.0000, 0.0000],\n",
              "        [0.0396, 0.0493, 0.0412,  ..., 0.0000, 0.0000, 0.0000],\n",
              "        [0.0513, 0.0347, 0.0550,  ..., 0.0000, 0.0000, 0.0000]],\n",
              "       grad_fn=<SelectBackward0>)"
            ]
          },
          "metadata": {},
          "execution_count": 45
        }
      ],
      "source": [
        "A[0][0]"
      ]
    },
    {
      "cell_type": "markdown",
      "metadata": {
        "id": "rWm8vhcxveMB"
      },
      "source": [
        "#### Módulo Feedforward Posicional\n",
        "\n",
        "Esta é a implementação da Rede Feedforward Posicional (PoswiseFeedForward), que é um componente da arquitetura Transformer, utilizada em modelos como o BERT.\n",
        "\n",
        "A Rede Feedforward Posicional é composta por duas camadas lineares com uma ativação GELU (Gaussian Error Linear Unit) entre elas.\n",
        "\n",
        "Aqui está a explicação detalhada do método forward:\n",
        "\n",
        "Primeira Camada Linear (self.fc1): A entrada x é passada por uma camada linear (também chamada de camada totalmente conectada). Essa camada tem uma transformação linear com d_model entradas e d_ff saídas, onde d_model é a dimensão do espaço de incorporação e d_ff é a dimensão da camada oculta da rede feed-forward. Isso permite ao modelo aprender representações não-lineares.\n",
        "\n",
        "Ativação GELU: Em seguida, a ativação GELU é aplicada. A função GELU permite ao modelo aprender transformações mais complexas e não lineares. Ela ajuda a lidar com o problema do desaparecimento do gradiente, permitindo que mais informações passem através da rede.\n",
        "\n",
        "Segunda Camada Linear (self.fc2): Por fim, a saída da ativação GELU é passada por uma segunda camada linear, que transforma a saída de volta para a dimensão original d_model. Isso é feito para que a saída desta rede feedforward possa ser somada à entrada original (conexão residual) no Transformer.\n",
        "\n",
        "O retorno da função é, portanto, a saída dessa segunda camada linear, que passou pela transformação da primeira camada linear, ativação GELU, e segunda camada linear.\n",
        "\n",
        "As redes feed-forward posicionais são uma parte importante dos modelos Transformer, permitindo-lhes aprender representações mais complexas e fazer transformações não-lineares dos dados de entrada."
      ]
    },
    {
      "cell_type": "code",
      "execution_count": null,
      "metadata": {
        "id": "SInkBHR-veMB"
      },
      "outputs": [],
      "source": [
        "# Classe PoswiseFeedForward\n",
        "class PoswiseFeedForward(nn.Module):\n",
        "\n",
        "    def __init__(self) -> None:\n",
        "\n",
        "        super(PoswiseFeedForward, self).__init__()\n",
        "\n",
        "        self.fc1 = nn.Linear(d_model, d_ff)\n",
        "\n",
        "        self.fc2 = nn.Linear(d_ff, d_model)\n",
        "\n",
        "    def forward(self, x):\n",
        "\n",
        "        return self.fc2(gelu(self.fc1(x)))"
      ]
    },
    {
      "cell_type": "markdown",
      "metadata": {
        "id": "sL6zPDnzveMB"
      },
      "source": [
        "#### Módulo Encoder Layer\n",
        "\n",
        "Esta classe define uma Camada de Codificador (EncoderLayer), que é um componente da arquitetura Transformer e também é usado em modelos como BERT. Cada camada de codificador no Transformer contém duas subcamadas: uma camada de Atenção Multi-Cabeças e uma Rede Feed-Forward Posicional.\n",
        "\n",
        "Aqui está a explicação detalhada do método forward:\n",
        "\n",
        "Atenção Multi-Cabeças (self.enc_self_attn): A entrada enc_inputs passa por uma camada de Atenção Multi-Cabeças, que é usada para que cada palavra na entrada tenha atenção direcionada a todas as outras palavras. Essa camada também recebe uma máscara (enc_self_attn_mask), que é usada para evitar que o modelo preste atenção a certas palavras (como as de preenchimento). A saída da Atenção Multi-Cabeças é outra sequência de representações vetoriais, com a mesma dimensão da entrada. A matriz de atenção que mostra como cada palavra se atentou a todas as outras também é retornada.\n",
        "\n",
        "Rede Feed-Forward Posicional (self.pos_ffn): A saída da camada de Atenção Multi-Cabeças passa então por uma Rede Feed-Forward Posicional. Esta é uma rede neural simples que opera independentemente em cada posição da sequência (ou seja, a mesma rede é aplicada a cada posição). Isso permite ao modelo aprender representações mais complexas e realizar transformações não-lineares dos dados.\n",
        "\n",
        "A função retorna a saída desta camada de codificador, que é a saída da Rede Feed-Forward Posicional, junto com a matriz de atenção. Portanto, a entrada e a saída desta camada do codificador têm a mesma dimensão, o que permite que várias dessas camadas de codificador sejam empilhadas para formar o codificador completo do Transformer."
      ]
    },
    {
      "cell_type": "code",
      "execution_count": null,
      "metadata": {
        "id": "f6Eij7fGpydz"
      },
      "outputs": [],
      "source": [
        "# Classe EncoderLayer\n",
        "class EncoderLayer(nn.Module):\n",
        "\n",
        "    def __init__(self) -> None:\n",
        "\n",
        "        super(EncoderLayer, self).__init__()\n",
        "\n",
        "        self.enc_self_attn = MultiHeadAttention()\n",
        "\n",
        "        self.pos_ffn = PoswiseFeedForward()\n",
        "\n",
        "    def forward(self, enc_inputs, enc_self_attn_mask):\n",
        "\n",
        "        enc_inputs, atnn = self.enc_self_attn(enc_inputs, enc_inputs, enc_inputs, enc_self_attn_mask)\n",
        "\n",
        "        enc_inputs = self.pos_ffn(enc_inputs)\n",
        "\n",
        "        return enc_inputs, atnn"
      ]
    },
    {
      "cell_type": "markdown",
      "metadata": {
        "id": "v6mJUeQ3veMB"
      },
      "source": [
        "#### Modelo BERT\n",
        "\n",
        "Esta classe define o modelo BERT (Bidirectional Encoder Representations from Transformers), um modelo de linguagem de última geração que usa transformers e atenção bidirecional para entender a semântica das palavras dentro de um contexto.\n",
        "\n",
        "Vamos analisar em detalhes o método forward:\n",
        "\n",
        "Embedding (self.embedding): Transforma as entradas (input_ids e segment_ids) em vetores densos (embeddings).\n",
        "\n",
        "Máscara de Atenção (get_attn_pad_masked): Gera uma máscara de atenção para ignorar os tokens de preenchimento (pad) nas entradas.\n",
        "\n",
        "Camadas de Codificação (self.layers): Passa a saída do embedding e a máscara de atenção através de várias camadas do codificador. Cada camada de codificador é composta por uma camada de atenção multi-cabeças e uma rede feed-forward posicional.\n",
        "\n",
        "Pooling (self.activ1(self.fc(output[:, 0]))): Aplica uma camada totalmente conectada e uma ativação tangente hiperbólica à primeira posição (o token de classificação) de cada sequência na saída do codificador. Isso resulta em um vetor de representação de sequência.\n",
        "\n",
        "Classificador (self.classifier): Uma camada totalmente conectada que gera os logits para a tarefa de classificação de próxima sentença.\n",
        "\n",
        "Extração de Tokens Mascarados (torch.gather(output, 1, masked_pos)): Selecione os vetores de saída correspondentes aos tokens mascarados.\n",
        "\n",
        "Transformação dos Tokens Mascarados (self.norm(self.activ2(self.linear(h_masked)))): Aplica uma transformação linear, uma ativação GELU e normalização à saída dos tokens mascarados.\n",
        "\n",
        "Decoder (self.decoder): Uma camada linear que gera os logits para a tarefa de modelagem de linguagem mascarada. Usa os mesmos pesos que a camada de embedding de tokens para a consistência no espaço de representação. Esta função decoder é usada somente para gerar os logits finais e não é usada no processo de aprendizado do modelo.\n",
        "\n",
        "O método retorna os logits para a tarefa de modelagem de linguagem mascarada e a tarefa de classificação de próxima sentença. Esses logits podem então ser usados para calcular as perdas para ambas as tarefas durante o treinamento."
      ]
    },
    {
      "cell_type": "code",
      "execution_count": null,
      "metadata": {
        "id": "-hstWm_rpydz"
      },
      "outputs": [],
      "source": [
        "# Modelo BERT\n",
        "class BERT(nn.Module):\n",
        "\n",
        "    def __init__(self) -> None:\n",
        "\n",
        "        super(BERT, self).__init__()\n",
        "\n",
        "        self.embedding = Embedding()\n",
        "\n",
        "        self.layers = nn.ModuleList([EncoderLayer() for _ in range(n_layers)])\n",
        "\n",
        "        self.fc = nn.Linear(d_model, d_model)\n",
        "\n",
        "        self.activ1 = nn.Tanh()\n",
        "\n",
        "        self.linear = nn.Linear(d_model, d_model)\n",
        "\n",
        "        self.activ2 = gelu\n",
        "\n",
        "        self.norm = nn.LayerNorm(d_model)\n",
        "\n",
        "        self.classifier = nn.Linear(d_model, 2)\n",
        "\n",
        "        embed_weight = self.embedding.tok_embed.weight\n",
        "\n",
        "        n_vocab, n_dim = embed_weight.size()\n",
        "\n",
        "        self.decoder = nn.Linear(n_dim, n_vocab, bias=False)\n",
        "\n",
        "        self.decoder.weight = embed_weight\n",
        "\n",
        "        self.decoder_bias = nn.Parameter(torch.zeros(n_vocab))\n",
        "\n",
        "    def forward(self, input_ids, segment_ids, masked_pos):\n",
        "\n",
        "        output = self.embedding(input_ids, segment_ids)\n",
        "\n",
        "        enc_self_attn_mask = get_attn_pad_masked(input_ids, input_ids)\n",
        "\n",
        "        for layer in self.layers:\n",
        "            output, enc_self_attn = layer(output, enc_self_attn_mask)\n",
        "\n",
        "        h_pooled = self.activ1(self.fc(output[:, 0]))\n",
        "\n",
        "        logits_clsf = self.classifier(h_pooled)\n",
        "\n",
        "        masked_pos = masked_pos[:, :, None].expand(-1, -1, output.size(-1))\n",
        "\n",
        "        h_masked = torch.gather(output, 1, masked_pos)\n",
        "\n",
        "        h_masked = self.norm(self.activ2(self.linear(h_masked)))\n",
        "\n",
        "        logits_lm = self.decoder(h_masked) + self.decoder_bias\n",
        "\n",
        "        return logits_lm, logits_clsf"
      ]
    },
    {
      "cell_type": "markdown",
      "metadata": {
        "id": "AFa-T5RlveMC"
      },
      "source": [
        "## Treinamento e Avaliação do Modelo"
      ]
    },
    {
      "cell_type": "code",
      "execution_count": null,
      "metadata": {
        "id": "t7be_FOYveMC"
      },
      "outputs": [],
      "source": [
        "# Cria o modelo\n",
        "model = BERT()"
      ]
    },
    {
      "cell_type": "code",
      "execution_count": null,
      "metadata": {
        "id": "Ao77RxamveMC"
      },
      "outputs": [],
      "source": [
        "# Função de erro\n",
        "criterion = nn.CrossEntropyLoss()"
      ]
    },
    {
      "cell_type": "code",
      "execution_count": null,
      "metadata": {
        "id": "5JQNlhDoveMC"
      },
      "outputs": [],
      "source": [
        "# Otimizador\n",
        "optimizer = optim.Adam(model.parameters(), lr = 0.001)"
      ]
    },
    {
      "cell_type": "code",
      "execution_count": null,
      "metadata": {
        "id": "j7-e7i4RveMC"
      },
      "outputs": [],
      "source": [
        "batch = make_batch()"
      ]
    },
    {
      "cell_type": "code",
      "execution_count": null,
      "metadata": {
        "id": "m6mf-LwNveMD"
      },
      "outputs": [],
      "source": [
        "input_ids, segment_ids, masked_tokens, masked_pos, isNext = map(torch.LongTensor, zip(*batch))"
      ]
    },
    {
      "cell_type": "markdown",
      "metadata": {
        "id": "qPUtyw9cveMD"
      },
      "source": [
        "Abaixo está o ciclo típico de treinamento de uma época em um modelo de aprendizado de máquina. Vamos quebrá-lo em etapas:\n",
        "\n",
        "optimizer.zero_grad(): Zera os gradientes de todas as variáveis otimizadas. Isso é feito porque os gradientes no PyTorch são acumulados, ou seja, cada vez que chamamos .backward(), os gradientes são somados em vez de substituídos. Então, precisamos limpar esses gradientes acumulados antes de cada passo de otimização.\n",
        "\n",
        "logits_lm, logits_clsf = model(input_ids, segment_ids, masked_pos): Alimenta os dados de entrada no modelo e obtém a saída do modelo. A saída é composta de logits_lm e logits_clsf, que são os resultados brutos não normalizados para a tarefa de modelagem de linguagem e a tarefa de classificação, respectivamente.\n",
        "\n",
        "loss_lm = criterion(logits_lm.transpose(1,2), masked_tokens): Calcula a perda da tarefa de modelagem de linguagem mascarada. criterion é a função de perda, logits_lm.transpose(1,2) são as previsões do modelo e masked_tokens são os alvos verdadeiros.\n",
        "\n",
        "loss_lm = (loss_lm.float()).mean(): Converte a perda em um tipo de dados de ponto flutuante (se ainda não for) e, em seguida, calcula a média da perda.\n",
        "\n",
        "loss_clsf = criterion(logits_clsf, isNext): Calcula a perda da tarefa de classificação da próxima frase.\n",
        "\n",
        "loss = loss_lm + loss_clsf: Combina as duas perdas em uma única perda escalar.\n",
        "\n",
        "loss.backward(): Calcula os gradientes de todas as variáveis otimizadas. Os gradientes são computados com respeito à perda.\n",
        "\n",
        "optimizer.step(): Atualiza os parâmetros do modelo usando os gradientes calculados.\n",
        "\n",
        "Essas etapas são repetidas para cada época de treinamento. Cada época é um ciclo completo através do conjunto de treinamento. Portanto, se NUM_EPOCHS é 10, então o processo de treinamento completo é executado 10 vezes."
      ]
    },
    {
      "cell_type": "code",
      "execution_count": null,
      "metadata": {
        "id": "OtgfwJ17pyd0",
        "outputId": "f60d9ce4-ff38-40cc-ad09-8f1c6861bdc7",
        "colab": {
          "base_uri": "https://localhost:8080/"
        }
      },
      "outputs": [
        {
          "output_type": "stream",
          "name": "stdout",
          "text": [
            "Epoch: 1 | Loss 66.9799\n",
            "Epoch: 2 | Loss 115.6670\n",
            "Epoch: 3 | Loss 323.9151\n",
            "Epoch: 4 | Loss 55.2592\n",
            "Epoch: 5 | Loss 253.3199\n",
            "Epoch: 6 | Loss 179.9999\n",
            "Epoch: 7 | Loss 140.0095\n",
            "Epoch: 8 | Loss 109.7596\n",
            "Epoch: 9 | Loss 71.7310\n",
            "Epoch: 10 | Loss 43.6082\n",
            "Epoch: 11 | Loss 23.6686\n",
            "Epoch: 12 | Loss 31.1093\n",
            "Epoch: 13 | Loss 36.2494\n",
            "Epoch: 14 | Loss 39.1401\n",
            "Epoch: 15 | Loss 40.0552\n",
            "Epoch: 16 | Loss 39.9835\n",
            "Epoch: 17 | Loss 38.9216\n",
            "Epoch: 18 | Loss 37.4767\n",
            "Epoch: 19 | Loss 35.7198\n",
            "Epoch: 20 | Loss 33.7021\n",
            "Epoch: 21 | Loss 31.2402\n",
            "Epoch: 22 | Loss 28.7483\n",
            "Epoch: 23 | Loss 33.6254\n",
            "Epoch: 24 | Loss 26.7332\n",
            "Epoch: 25 | Loss 24.2900\n",
            "Epoch: 26 | Loss 23.5738\n",
            "Epoch: 27 | Loss 23.0500\n",
            "Epoch: 28 | Loss 21.9302\n",
            "Epoch: 29 | Loss 21.1827\n",
            "Epoch: 30 | Loss 19.8477\n",
            "Epoch: 31 | Loss 20.5767\n",
            "Epoch: 32 | Loss 18.5149\n",
            "Epoch: 33 | Loss 17.9828\n",
            "Epoch: 34 | Loss 17.0150\n",
            "Epoch: 35 | Loss 16.2162\n",
            "Epoch: 36 | Loss 17.5320\n",
            "Epoch: 37 | Loss 14.9273\n",
            "Epoch: 38 | Loss 14.7517\n",
            "Epoch: 39 | Loss 14.5988\n",
            "Epoch: 40 | Loss 13.8789\n",
            "Epoch: 41 | Loss 13.2971\n",
            "Epoch: 42 | Loss 13.3126\n",
            "Epoch: 43 | Loss 12.5979\n",
            "Epoch: 44 | Loss 12.1339\n",
            "Epoch: 45 | Loss 12.1807\n",
            "Epoch: 46 | Loss 11.4943\n",
            "Epoch: 47 | Loss 10.9750\n",
            "Epoch: 48 | Loss 10.4661\n",
            "Epoch: 49 | Loss 10.3493\n",
            "Epoch: 50 | Loss 9.2487\n"
          ]
        }
      ],
      "source": [
        "# Loop de treino\n",
        "for epoch in range(NUM_EPOCHS):\n",
        "\n",
        "    optimizer.zero_grad()\n",
        "\n",
        "    logits_lm, logits_clsf = model(input_ids, segment_ids, masked_pos)\n",
        "\n",
        "    loss_lm = criterion(logits_lm.transpose(1,2), masked_tokens)\n",
        "\n",
        "    loss_lm = (loss_lm.float()).mean()\n",
        "\n",
        "    loss_clsf = criterion(logits_clsf, isNext)\n",
        "\n",
        "    loss = loss_lm + loss_clsf\n",
        "\n",
        "    print(f'Epoch: {epoch + 1} | Loss {loss:.4f}')\n",
        "\n",
        "    loss.backward()\n",
        "\n",
        "    optimizer.step()"
      ]
    },
    {
      "cell_type": "markdown",
      "metadata": {
        "id": "Y6Y24TfJveMD"
      },
      "source": [
        "## Extraindo as Previsões do Modelo Treinado"
      ]
    },
    {
      "cell_type": "code",
      "execution_count": null,
      "metadata": {
        "id": "1kqnU60kveMD",
        "outputId": "67bf3de8-1c69-44e7-e651-ee0e91fa39e3",
        "colab": {
          "base_uri": "https://localhost:8080/"
        }
      },
      "outputs": [
        {
          "output_type": "stream",
          "name": "stdout",
          "text": [
            "'Olá, como vai? Eu sou a Ana.\\n'\n",
            "'Olá, Ana, meu nome é Carlos. Muito prazer.\\n'\n",
            "'Prazer em conhecer você também. Como você está hoje?\\n'\n",
            "'Ótimo. Meu time de futebol venceu a competição.\\n'\n",
            "'Uau Parabéns, Carlos!\\n'\n",
            "'Obrigado Ana.\\n'\n",
            "'Vamos comer uma pizza mais tarde para celebrar?\\n'\n",
            "'Claro. Você recomenda algum restaurante Ana?\\n'\n",
            "'Sim, abriu um restaurante novo e dizem que a pizza de banana é fenomenal.\\n'\n",
            "'Ok. Nos encontramos no restaurante às sete da noite, pode ser?\\n'\n",
            "'Pode sim. Nos vemos mais tarde então.'\n",
            "['[CLS]', \"'olá\", '[MASK]', 'vai', 'eu', 'sou', 'a', \"ana\\\\n'\", '[SEP]', \"'ok\", 'nos', 'encontramos', 'no', 'restaurante', 'às', 'sete', '[MASK]', 'noite', 'pode', \"'sim\", '[SEP]']\n"
          ]
        }
      ],
      "source": [
        "# Extrai o batch\n",
        "input_ids, segment_ids, masked_tokens, masked_pos, isNext = map(torch.LongTensor, zip(batch[0]))\n",
        "print(text)\n",
        "print([number_dict[w.item()] for w in input_ids[0] if number_dict[w.item()] != '[PAD]'])"
      ]
    },
    {
      "cell_type": "code",
      "execution_count": null,
      "metadata": {
        "id": "EBQaArlpveMD",
        "outputId": "4533a0b3-1d19-4749-dadc-8cc3fc6fbd2e",
        "colab": {
          "base_uri": "https://localhost:8080/"
        }
      },
      "outputs": [
        {
          "output_type": "stream",
          "name": "stdout",
          "text": [
            "Lista de Masked Tokens Reais:  [24, 34, 53]\n",
            "Lista de Masked Tokens Previstos:  []\n"
          ]
        }
      ],
      "source": [
        "# Extrai as previsões dos tokens\n",
        "logits_lm, logits_clsf = model(input_ids, segment_ids, masked_pos)\n",
        "logits_lm = logits_lm.data.max(2)[1][0].data.numpy()\n",
        "print('Lista de Masked Tokens Reais: ', [pos.item() for pos in masked_tokens[0] if pos.item() != 0])\n",
        "print('Lista de Masked Tokens Previstos: ', [pos for pos in logits_lm if pos != 0])"
      ]
    },
    {
      "cell_type": "code",
      "execution_count": null,
      "metadata": {
        "colab": {
          "base_uri": "https://localhost:8080/"
        },
        "id": "jsAhgTZCpyd0",
        "outputId": "252fc98b-8dd1-4f8e-deea-020993cee443"
      },
      "outputs": [
        {
          "output_type": "stream",
          "name": "stdout",
          "text": [
            "isNext (Valor Real):  False\n",
            "isNext (Valor Previsto):  False\n"
          ]
        }
      ],
      "source": [
        "# Extrai as previsões do próximo token\n",
        "logits_clsf = logits_clsf.data.max(1)[1].data.numpy()[0]\n",
        "print('isNext (Valor Real): ', True if isNext else False)\n",
        "print('isNext (Valor Previsto): ', True if logits_clsf else False)"
      ]
    },
    {
      "cell_type": "markdown",
      "metadata": {
        "id": "35HI-_6FveME"
      },
      "source": [
        "# Fim"
      ]
    }
  ],
  "metadata": {
    "accelerator": "GPU",
    "colab": {
      "gpuType": "T4",
      "provenance": [],
      "include_colab_link": true
    },
    "gpuClass": "standard",
    "kernelspec": {
      "display_name": "Python 3 (ipykernel)",
      "language": "python",
      "name": "python3"
    },
    "language_info": {
      "codemirror_mode": {
        "name": "ipython",
        "version": 3
      },
      "file_extension": ".py",
      "mimetype": "text/x-python",
      "name": "python",
      "nbconvert_exporter": "python",
      "pygments_lexer": "ipython3",
      "version": "3.10.9"
    }
  },
  "nbformat": 4,
  "nbformat_minor": 0
}